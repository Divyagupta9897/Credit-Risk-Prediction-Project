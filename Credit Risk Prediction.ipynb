{
 "cells": [
  {
   "cell_type": "code",
   "execution_count": 1,
   "id": "c41ce401-b288-4b8c-b6a2-caa4480fb630",
   "metadata": {},
   "outputs": [],
   "source": [
    "import numpy as np\n",
    "import pandas as pd \n",
    "import matplotlib.pyplot as plt \n",
    "import seaborn as sns\n",
    "%matplotlib inline"
   ]
  },
  {
   "cell_type": "code",
   "execution_count": 2,
   "id": "36ed5c55-e461-4501-b8fb-a14289acbaf6",
   "metadata": {},
   "outputs": [],
   "source": [
    "import pandas as pd\n",
    "import numpy as np\n",
    "import xgboost as xgb\n",
    "import plotly.graph_objects as go\n",
    "import seaborn as sns\n",
    "import matplotlib.pyplot as plt\n",
    "from sklearn.metrics import roc_curve\n",
    "from sklearn.preprocessing import LabelEncoder\n",
    "from sklearn.preprocessing import OrdinalEncoder\n",
    "from sklearn.tree import DecisionTreeClassifier\n",
    "from sklearn.linear_model import LogisticRegression\n",
    "from sklearn.metrics import classification_report\n",
    " \n",
    "from sklearn.compose import ColumnTransformer\n",
    "from sklearn.preprocessing import StandardScaler\n",
    "from sklearn.pipeline import Pipeline\n",
    "from sklearn.metrics import confusion_matrix,accuracy_score,precision_score,recall_score,f1_score,auc\n",
    "from sklearn.model_selection import train_test_split\n",
    " \n",
    "from sklearn.ensemble import RandomForestClassifier,AdaBoostClassifier,GradientBoostingClassifier,ExtraTreesClassifier\n",
    "from statsmodels.stats.outliers_influence import variance_inflation_factor\n",
    "from scipy.stats import ks_2samp\n",
    " \n",
    "from sklearn.model_selection import GridSearchCV , RandomizedSearchCV\n",
    "from sklearn.metrics import roc_auc_score\n",
    "from tqdm import tqdm\n",
    " \n",
    "import warnings\n",
    "warnings.filterwarnings(\"ignore\")\n",
    "def plot_pentiles_test(Y_test_probs, Y_test, quantiles_name, quantile, dataset_timeline , quantile_bins):\n",
    " \n",
    "    df_probs_master = pd.concat([Y_test_probs[['prob']],Y_test],axis=1)\n",
    "#     df_probs_master[quantiles_name] = pd.qcut(df_probs_master['prob'],quantile,labels = np.arange(1,quantile+1,1).tolist())\n",
    "#     quantile_bins = pd.qcut(df_probs_master['prob'] ,  10, retbins=True)[1]\n",
    "    df_probs_master[quantiles_name] = pd.cut(df_probs_master['prob'] , bins = quantile_bins , labels = np.arange(1,quantile+1,1)) \n",
    "    x = df_probs_master.groupby(quantiles_name).agg(MOB_15_90_ever_sum=('bad_16_mob','sum'),count = ('prob','count'),prob_min=('prob','min'),prob_max=('prob','max')).reset_index()\n",
    "    x['deliquency'] = (x['MOB_15_90_ever_sum']/x['count']*100).round(2)\n",
    "    step_size_x = 1\n",
    "    deliq =  x['MOB_15_90_ever_sum'].sum()/x['count'].sum()*100\n",
    "    deliq = np.round(deliq,2)\n",
    "    print('Overall portfolio for ' +dataset_timeline +'time period: (90+ ever in 15 MOB Deliquency): ',deliq,'%')\n",
    " \n",
    "    x[quantiles_name] = x[quantiles_name].astype(int)\n",
    "    plt.plot(x[quantiles_name], x['deliquency'])\n",
    "    plt.xticks(range( min(x[quantiles_name]), max(x[quantiles_name])+1, step_size_x))\n",
    "#     plt.xticks(np.arange(1,11),[1,2,3,4,5,6,7,8,9,10])\n",
    "    plt.title(dataset_timeline)\n",
    "    plt.xlabel(quantiles_name)\n",
    "    plt.ylabel('deliquency %')\n",
    "    # plt.xticks(buckets, [str(interval) for interval in buckets],rotation = 45)\n",
    "    plt.grid(True)\n",
    "    print(plt.show())\n",
    "    return x , df_probs_master\n",
    " \n",
    "# bureau_variables['cibil_bucket'] = pd.cut(bureau_variables['score'], bins=quantile_bins)\n",
    " \n",
    "def plot_pentiles_train(Y_test_probs, Y_test, quantiles_name, quantile, dataset_timeline):\n",
    "    df_probs_master = pd.concat([Y_test_probs[['prob']],Y_test],axis=1)\n",
    "    df_probs_master[quantiles_name] = pd.qcut(df_probs_master['prob'],quantile,labels = np.arange(1,quantile+1,1).tolist())\n",
    "    quantile_bins = pd.qcut(df_probs_master['prob'] ,  quantile, retbins=True)[1]\n",
    "    #print(df_probs_master[df_probs_master[quantiles_name].isna()])\n",
    "    df_probs_master[quantiles_name] = df_probs_master[quantiles_name].astype(int)\n",
    "    x = df_probs_master.groupby(quantiles_name).agg(MOB_15_90_ever_sum=('bad_16_mob','sum'),count = ('prob','count'),prob_min=('prob','min'),prob_max=('prob','max')).reset_index()\n",
    "    x['deliquency'] = (x['MOB_15_90_ever_sum']/x['count']*100).round(2)\n",
    "    step_size_x = 1\n",
    "    deliq =  x['MOB_15_90_ever_sum'].sum()/x['count'].sum()*100\n",
    "    deliq = np.round(deliq,2)\n",
    "    x[quantiles_name] = x[quantiles_name].astype(int)\n",
    "    print('Overall portfolio for ' +dataset_timeline +'time period: (90+ ever in 15 MOB Deliquency): ',deliq,'%')\n",
    "    plt.plot(x[quantiles_name], x['deliquency'])\n",
    "    plt.xticks(range( min(x[quantiles_name]), max(x[quantiles_name])+1, step_size_x))\n",
    "    plt.title(dataset_timeline)\n",
    "    plt.xlabel(quantiles_name)\n",
    "    plt.ylabel('deliquency %')\n",
    "\n",
    "    plt.grid(True)\n",
    "    plt.show()\n",
    "    return x ,quantile_bins\n",
    " \n",
    " \n",
    " \n",
    "def get_metrics_all(model_lr_exp,X_test_OOT1_col_removed,X_test_OOT2_col_removed,X_train_col_removed,Y_test_OOT1,Y_test_OOT2,Y_train,quantile_name):\n",
    "    Y_test_OOT1_probs, Y_test_OOT1_predict,\\\n",
    "    Y_test_OOT2_probs, Y_test_OOT2_predict,\\\n",
    "    Y_train_probs, Y_train_predict = model_predict(model_lr_exp ,X_test_OOT1_col_removed, X_test_OOT2_col_removed, X_train_col_removed)\n",
    "#     prob_plots(Y_test_OOT2_probs, Y_test_OOT1_probs, Y_train_probs)\n",
    "    thresold = plot_roc_thresold(Y_test_OOT1, Y_test_OOT1_probs, Y_test_OOT2, Y_test_OOT2_probs, Y_train, Y_train_probs)\n",
    "    Y_test_OOT2_probs['predict'] = 0\n",
    "    Y_test_OOT2_probs.loc[Y_test_OOT2_probs['prob']> thresold,'predict'] = 1\n",
    " \n",
    "    Y_test_OOT1_probs['predict'] = 0\n",
    "    Y_test_OOT1_probs.loc[Y_test_OOT1_probs['prob']>thresold,'predict'] = 1\n",
    " \n",
    "    Y_train_probs['predict'] = 0\n",
    "    Y_train_probs.loc[Y_train_probs['prob']>thresold\n",
    "                      ,'predict'] = 1\n",
    "    metrics = pd.DataFrame({\n",
    "    'dataset':['Train','In_Sample_val','OOT'],\n",
    "    'timeline':['2020-08_to_2022-04','2020-08_to_2022-04','2022-05_to_2022-07'],\n",
    "    'Total_Count':[len(X_train_col_removed),len(X_test_OOT1_col_removed),len(X_test_OOT2_col_removed)],\n",
    "    'accuracy' :[scores(Y_train,Y_train_probs['predict'])[0],scores(Y_test_OOT1,Y_test_OOT1_probs['predict'])[0],scores(Y_test_OOT2,Y_test_OOT2_probs['predict'])[0]],\n",
    "    'recall'   :[scores(Y_train,Y_train_probs['predict'])[1],scores(Y_test_OOT1,Y_test_OOT1_probs['predict'])[1],scores(Y_test_OOT2,Y_test_OOT2_probs['predict'])[1]],\n",
    "    'precision':[scores(Y_train,Y_train_probs['predict'])[2],scores(Y_test_OOT1,Y_test_OOT1_probs['predict'])[2],scores(Y_test_OOT2,Y_test_OOT2_probs['predict'])[2]],\n",
    "    'f1_score ':[scores(Y_train,Y_train_probs['predict'])[3],scores(Y_test_OOT1,Y_test_OOT1_probs['predict'])[3],scores(Y_test_OOT2,Y_test_OOT2_probs['predict'])[3]],\n",
    "    'AUC'      :[get_gini(Y_train, Y_train_probs['prob'])[0],get_gini(Y_test_OOT1, Y_test_OOT1_probs['prob'])[0],get_gini(Y_test_OOT2, Y_test_OOT2_probs['prob'])[0]],\n",
    "    'GINI'     :[get_gini(Y_train, Y_train_probs['prob'])[1],get_gini(Y_test_OOT1, Y_test_OOT1_probs['prob'])[1],get_gini(Y_test_OOT2, Y_test_OOT2_probs['prob'])[1]],\n",
    "    'KS'       :[ks_stats(Y_train,Y_train_probs), ks_stats(Y_test_OOT1,Y_test_OOT1_probs),ks_stats(Y_test_OOT2,Y_test_OOT2_probs)]\n",
    "})\n",
    "#     print(metrics)\n",
    "    dic = {'pentile':5,'decile':10}\n",
    "    train , quantile_bins = plot_pentiles_train(Y_train_probs,Y_train, quantile_name ,dic[quantile_name] , 'Development_period_(2021-01)to(2022-02)' )\n",
    "    test_OOT1,raw_OOT1 = plot_pentiles_test(Y_test_OOT1_probs,Y_test_OOT1 , quantile_name , dic[quantile_name], 'OOT1_(2022-03)to(2022-05)',quantile_bins )\n",
    "    test_OOT2,raw_OOT2 = plot_pentiles_test(Y_test_OOT2_probs,Y_test_OOT2 , quantile_name , dic[quantile_name] , 'OOT2_(2022-01_to_(2022-03)' ,quantile_bins)\n",
    "#     print(hellow)\n",
    "#     print(test_OOT1)\n",
    "#     print()\n",
    "#     print(test_OOT2)\n",
    "    return [metrics,train,test_OOT1,test_OOT2,raw_OOT2,raw_OOT1]\n",
    " \n",
    " \n",
    "def model_predict(model ,X_test_OOT1, X_test_OOT2, X_train):\n",
    "    Y_test_OOT1_probs   = pd.DataFrame(data = model.predict_proba(X_test_OOT1)[:,1],columns=['prob'])\n",
    "    Y_test_OOT1_predict = model.predict(X_test_OOT1)\n",
    " \n",
    "    Y_test_OOT2_probs   = pd.DataFrame(data = model.predict_proba(X_test_OOT2)[:,1],columns=['prob'])\n",
    "    Y_test_OOT2_predict = model.predict(X_test_OOT2)\n",
    " \n",
    "    Y_train_probs   = pd.DataFrame(data = model.predict_proba(X_train)[:,1],columns=['prob'])\n",
    "    Y_train_predict = model.predict(X_train)\n",
    "    return Y_test_OOT1_probs, Y_test_OOT1_predict, Y_test_OOT2_probs, Y_test_OOT2_predict,\\\n",
    "           Y_train_probs, Y_train_predict\n",
    " \n",
    " \n",
    "    \n",
    " \n",
    "def plot_roc_thresold(Y_test_OOT1, Y_test_OOT1_probs, Y_test_OOT2, Y_test_OOT2_probs, Y_train, Y_train_probs):\n",
    "    fpr_OOT1,   tpr_OOT1,   thresholds_OOT1        = roc_curve(Y_test_OOT1, Y_test_OOT1_probs['prob'])\n",
    "    fpr_OOT2,   tpr_OOT2,   thresholds_OOT2        = roc_curve(Y_test_OOT2, Y_test_OOT2_probs['prob'])\n",
    "    fpr_train,  tpr_train,  thresholds_train       = roc_curve(Y_train, Y_train_probs['prob'])\n",
    "    #thresold\n",
    "    optimal_idx = np.argmax(tpr_train - fpr_train)\n",
    "    optimal_threshold = thresholds_train[optimal_idx]\n",
    "    print(\"Optimal threshold is:\", optimal_threshold)\n",
    "    #plotting\n",
    "    fig , ax = plt.subplots() \n",
    "    ax.plot(fpr_OOT1, tpr_OOT1 , label='In_Sample_Validation')\n",
    "    ax.plot(fpr_OOT2, tpr_OOT2 , label='OOT')\n",
    "    ax.plot(fpr_train, tpr_train , label='train')\n",
    "    ax.set_xlabel('False Positive Rate')\n",
    "    ax.set_ylabel('True Positive Rate')\n",
    "    ax.set_title('ROC Curve')\n",
    "    ax.legend()\n",
    "    plt.plot([0, 1], [0, 1], '--')\n",
    "    plt.show()\n",
    "    return optimal_threshold\n",
    " \n",
    "def prob_plots(Y_test_OOT2_probs, Y_test_OOT1_probs, Y_train_probs):\n",
    "    fig , ax = plt.subplots()\n",
    "    ax =sns.kdeplot(Y_test_OOT2_probs['prob'],label='OOT')\n",
    "    ax =sns.kdeplot(Y_test_OOT1_probs['prob'],label='in_sample_validation')\n",
    "    ax =sns.kdeplot(Y_train_probs['prob'],label='train')\n",
    " \n",
    "def get_gini(Y_test , Y_test_probs):\n",
    "    fpr, tpr, thresholds = roc_curve(Y_test, Y_test_probs)\n",
    "    roc_auc = auc(fpr, tpr)\n",
    "    #print('AUC:',roc_auc , 'GINI:', 2*(roc_auc-0.5))\n",
    "    return [roc_auc, 2*(roc_auc-0.5)]\n",
    " \n",
    "def scores(y_test,preds):\n",
    "    tn, fp, fn, tp  = confusion_matrix(y_test, preds).ravel()\n",
    "#     print('tp,fp,tn,fn',tp,fp,tn,fn)\n",
    "#     print('accuracy :',round(accuracy_score(y_test, preds),4))\n",
    "#     print('precision :',round(precision_score(y_test,preds),4))\n",
    "#     print('recall:',round(recall_score(y_test,preds),4))\n",
    "#     print('f1 score :',round(f1_score(y_test,preds),4))\n",
    "    return [round(accuracy_score(y_test, preds),4),round(recall_score(y_test,preds),4),round(precision_score(y_test,preds),4)\\\n",
    "            ,round(f1_score(y_test,preds),4)]\n",
    " \n",
    "def calc_vif(X):\n",
    " \n",
    "    vif = pd.DataFrame()\n",
    "    vif[\"variables\"] = X.columns\n",
    "    vif[\"VIF\"] = [variance_inflation_factor(X.values, i) for i in range(X.shape[1])]\n",
    " \n",
    "    return(vif)\n",
    " \n",
    "def ks_stats(Y_test,Y_test_probs ):\n",
    "    df = pd.concat([Y_test,Y_test_probs],axis=1)\n",
    "    # Recover each class\n",
    "    class0 = df[df['bad_16_mob'] == 0]\n",
    "    class1 = df[df['bad_16_mob'] == 1]\n",
    "    ks = ks_2samp(class0['prob'], class1['prob'])\n",
    "    return ks.statistic\n",
    " \n",
    "def woe_plot(variables_master,column_name):\n",
    "    df = variables_master.groupby(column_name).agg(count=('deal_no','count'),bad=('bad_16_mob','sum')).reset_index()\n",
    "    df['del'] = (df['bad']/df['count'])*100\n",
    "    df['del'] = df['del'].round(2)\n",
    " \n",
    "#bivariants\n",
    "    plt.figure(figsize=(6.4, 6))\n",
    "    ax = sns.barplot(x=column_name,y='del',data = df,color='green')\n",
    "    for p in ax.patches:\n",
    "        height = p.get_height()\n",
    "        ax.annotate(f'{height}%', (p.get_x() + p.get_width() / 2., height),\n",
    "                    ha='center', va='center', fontsize=14, color='black', xytext=(0, 5),\n",
    "                    textcoords='offset points')\n",
    "    plt.show()\n",
    "#WOE and information value \n",
    "    df['good'] = df['count'] - df['bad']\n",
    "    df['good_perc'] = df['good']/df['good'].sum()\n",
    "    df['bad_perc'] = df['bad']/df['bad'].sum()\n",
    "    df['diff_perc'] = df['good_perc']-df['bad_perc']\n",
    "    df['woe'] = np.log(df['good_perc']/df['bad_perc'])\n",
    "    df['woe'] = df['woe'].replace([np.inf, -np.inf], np.nan).fillna(0)\n",
    "    df['iv'] = df['diff_perc'] * df['woe']\n",
    "    print('information_value for '+column_name,df['iv'].sum())\n",
    "    return df\n",
    " \n",
    "def cal_CSI(X_train,X_test_OOT1,X_test_OOT2):\n",
    "    df = pd.DataFrame(columns =['variable','CSI_In_Sam_%','CSI_OOT_%'])\n",
    "    for i in X_train.columns:\n",
    "        k = X_train.groupby(i).agg(count = (i,'count')).reset_index()\n",
    "        l = X_test_OOT1.groupby(i).agg(count = (i,'count')).reset_index()\n",
    "        m = X_test_OOT2.groupby(i).agg(count = (i,'count')).reset_index()\n",
    " \n",
    "        k['vol_%'] = k['count']/k['count'].sum()\n",
    "        l['vol_%'] = l['count']/l['count'].sum()\n",
    "        m['vol_%'] = m['count']/m['count'].sum()\n",
    " \n",
    "        CSI_In_Sam = 0\n",
    "        CSI_OOT = 0\n",
    " \n",
    "        for j in range(len(k)):\n",
    "            vol_a = k.loc[j,'vol_%']\n",
    "            vol_b = l.loc[j,'vol_%']\n",
    "            vol_c = m.loc[j,'vol_%']\n",
    " \n",
    "            CSI_In_Sam = CSI_In_Sam + (vol_a-vol_b)*np.log(vol_a/vol_b)\n",
    "            CSI_OOT    = CSI_OOT +    (vol_a-vol_c)*np.log(vol_a/vol_c)\n",
    "        df_test = pd.DataFrame({'variable':[i],'CSI_In_Sam_%':[CSI_In_Sam],'CSI_OOT_%':[CSI_OOT]})        \n",
    "        df = pd.concat([df,df_test],axis =0).reset_index(drop = True)\n",
    "    return df"
   ]
  },
  {
   "cell_type": "code",
   "execution_count": 3,
   "id": "87d99cd5-77e2-4cdb-a33d-6fc3bc974137",
   "metadata": {},
   "outputs": [
    {
     "data": {
      "text/plain": [
       "(32581, 12)"
      ]
     },
     "execution_count": 3,
     "metadata": {},
     "output_type": "execute_result"
    }
   ],
   "source": [
    "df = pd.read_csv('credit_risk_dataset (2).csv')\n",
    "df.shape"
   ]
  },
  {
   "cell_type": "code",
   "execution_count": 4,
   "id": "15cb1c9f-0305-4487-a4ff-874abe0f9467",
   "metadata": {},
   "outputs": [
    {
     "data": {
      "text/plain": [
       "person_age                    0.000000\n",
       "person_income                 0.000000\n",
       "person_home_ownership         0.000000\n",
       "person_emp_length             2.747000\n",
       "loan_intent                   0.000000\n",
       "loan_grade                    0.000000\n",
       "loan_amnt                     0.000000\n",
       "loan_int_rate                 9.563856\n",
       "loan_status                   0.000000\n",
       "loan_percent_income           0.000000\n",
       "cb_person_default_on_file     0.000000\n",
       "cb_person_cred_hist_length    0.000000\n",
       "dtype: float64"
      ]
     },
     "execution_count": 4,
     "metadata": {},
     "output_type": "execute_result"
    }
   ],
   "source": [
    "df.isna().mean()*100"
   ]
  },
  {
   "cell_type": "code",
   "execution_count": 137,
   "id": "5cbcea2e-e6fe-429f-b34f-7c6efbc55bc8",
   "metadata": {},
   "outputs": [
    {
     "data": {
      "text/plain": [
       "12"
      ]
     },
     "execution_count": 137,
     "metadata": {},
     "output_type": "execute_result"
    }
   ],
   "source": [
    "len(df.columns)"
   ]
  },
  {
   "cell_type": "code",
   "execution_count": 5,
   "id": "7a53d624-c096-41d9-80d2-75760560dd82",
   "metadata": {},
   "outputs": [
    {
     "data": {
      "text/html": [
       "<div>\n",
       "<style scoped>\n",
       "    .dataframe tbody tr th:only-of-type {\n",
       "        vertical-align: middle;\n",
       "    }\n",
       "\n",
       "    .dataframe tbody tr th {\n",
       "        vertical-align: top;\n",
       "    }\n",
       "\n",
       "    .dataframe thead th {\n",
       "        text-align: right;\n",
       "    }\n",
       "</style>\n",
       "<table border=\"1\" class=\"dataframe\">\n",
       "  <thead>\n",
       "    <tr style=\"text-align: right;\">\n",
       "      <th></th>\n",
       "      <th>person_age</th>\n",
       "      <th>person_income</th>\n",
       "      <th>person_home_ownership</th>\n",
       "      <th>person_emp_length</th>\n",
       "      <th>loan_intent</th>\n",
       "      <th>loan_grade</th>\n",
       "      <th>loan_amnt</th>\n",
       "      <th>loan_int_rate</th>\n",
       "      <th>loan_status</th>\n",
       "      <th>loan_percent_income</th>\n",
       "      <th>cb_person_default_on_file</th>\n",
       "      <th>cb_person_cred_hist_length</th>\n",
       "    </tr>\n",
       "  </thead>\n",
       "  <tbody>\n",
       "    <tr>\n",
       "      <th>0</th>\n",
       "      <td>22</td>\n",
       "      <td>59000</td>\n",
       "      <td>RENT</td>\n",
       "      <td>123.0</td>\n",
       "      <td>PERSONAL</td>\n",
       "      <td>D</td>\n",
       "      <td>35000</td>\n",
       "      <td>16.02</td>\n",
       "      <td>1</td>\n",
       "      <td>0.59</td>\n",
       "      <td>Y</td>\n",
       "      <td>3</td>\n",
       "    </tr>\n",
       "    <tr>\n",
       "      <th>1</th>\n",
       "      <td>21</td>\n",
       "      <td>9600</td>\n",
       "      <td>OWN</td>\n",
       "      <td>5.0</td>\n",
       "      <td>EDUCATION</td>\n",
       "      <td>B</td>\n",
       "      <td>1000</td>\n",
       "      <td>11.14</td>\n",
       "      <td>0</td>\n",
       "      <td>0.10</td>\n",
       "      <td>N</td>\n",
       "      <td>2</td>\n",
       "    </tr>\n",
       "    <tr>\n",
       "      <th>2</th>\n",
       "      <td>25</td>\n",
       "      <td>9600</td>\n",
       "      <td>MORTGAGE</td>\n",
       "      <td>1.0</td>\n",
       "      <td>MEDICAL</td>\n",
       "      <td>C</td>\n",
       "      <td>5500</td>\n",
       "      <td>12.87</td>\n",
       "      <td>1</td>\n",
       "      <td>0.57</td>\n",
       "      <td>N</td>\n",
       "      <td>3</td>\n",
       "    </tr>\n",
       "    <tr>\n",
       "      <th>3</th>\n",
       "      <td>23</td>\n",
       "      <td>65500</td>\n",
       "      <td>RENT</td>\n",
       "      <td>4.0</td>\n",
       "      <td>MEDICAL</td>\n",
       "      <td>C</td>\n",
       "      <td>35000</td>\n",
       "      <td>15.23</td>\n",
       "      <td>1</td>\n",
       "      <td>0.53</td>\n",
       "      <td>N</td>\n",
       "      <td>2</td>\n",
       "    </tr>\n",
       "    <tr>\n",
       "      <th>4</th>\n",
       "      <td>24</td>\n",
       "      <td>54400</td>\n",
       "      <td>RENT</td>\n",
       "      <td>8.0</td>\n",
       "      <td>MEDICAL</td>\n",
       "      <td>C</td>\n",
       "      <td>35000</td>\n",
       "      <td>14.27</td>\n",
       "      <td>1</td>\n",
       "      <td>0.55</td>\n",
       "      <td>Y</td>\n",
       "      <td>4</td>\n",
       "    </tr>\n",
       "  </tbody>\n",
       "</table>\n",
       "</div>"
      ],
      "text/plain": [
       "   person_age  person_income person_home_ownership  person_emp_length  \\\n",
       "0          22          59000                  RENT              123.0   \n",
       "1          21           9600                   OWN                5.0   \n",
       "2          25           9600              MORTGAGE                1.0   \n",
       "3          23          65500                  RENT                4.0   \n",
       "4          24          54400                  RENT                8.0   \n",
       "\n",
       "  loan_intent loan_grade  loan_amnt  loan_int_rate  loan_status  \\\n",
       "0    PERSONAL          D      35000          16.02            1   \n",
       "1   EDUCATION          B       1000          11.14            0   \n",
       "2     MEDICAL          C       5500          12.87            1   \n",
       "3     MEDICAL          C      35000          15.23            1   \n",
       "4     MEDICAL          C      35000          14.27            1   \n",
       "\n",
       "   loan_percent_income cb_person_default_on_file  cb_person_cred_hist_length  \n",
       "0                 0.59                         Y                           3  \n",
       "1                 0.10                         N                           2  \n",
       "2                 0.57                         N                           3  \n",
       "3                 0.53                         N                           2  \n",
       "4                 0.55                         Y                           4  "
      ]
     },
     "execution_count": 5,
     "metadata": {},
     "output_type": "execute_result"
    }
   ],
   "source": [
    "df.head()"
   ]
  },
  {
   "cell_type": "code",
   "execution_count": 7,
   "id": "592120f9-7715-4c5a-9a9d-3cfeb318aa04",
   "metadata": {},
   "outputs": [
    {
     "data": {
      "text/plain": [
       "Index(['person_age', 'person_income', 'person_home_ownership',\n",
       "       'person_emp_length', 'loan_intent', 'loan_grade', 'loan_amnt',\n",
       "       'loan_int_rate', 'loan_status', 'loan_percent_income',\n",
       "       'cb_person_default_on_file', 'cb_person_cred_hist_length'],\n",
       "      dtype='object')"
      ]
     },
     "execution_count": 7,
     "metadata": {},
     "output_type": "execute_result"
    }
   ],
   "source": [
    "df.columns"
   ]
  },
  {
   "cell_type": "code",
   "execution_count": 138,
   "id": "fa144e1d-bdcb-4c5b-a322-9eabece7b766",
   "metadata": {},
   "outputs": [
    {
     "data": {
      "text/plain": [
       "loan_status\n",
       "0    25473\n",
       "1     7108\n",
       "Name: count, dtype: int64"
      ]
     },
     "execution_count": 138,
     "metadata": {},
     "output_type": "execute_result"
    }
   ],
   "source": [
    "df['loan_status'].value_counts()"
   ]
  },
  {
   "cell_type": "markdown",
   "id": "a71c3a6a-a124-4262-982d-8372e017859e",
   "metadata": {},
   "source": [
    "## Missing value treatment"
   ]
  },
  {
   "cell_type": "code",
   "execution_count": 139,
   "id": "69bdeac3-bc39-44b7-8f4b-093798cced62",
   "metadata": {},
   "outputs": [],
   "source": [
    "import warnings\n",
    "warnings.filterwarnings('ignore')"
   ]
  },
  {
   "cell_type": "markdown",
   "id": "2bfbe1de-7cca-4f3a-9c18-4b25f1a04a5b",
   "metadata": {},
   "source": [
    "## person_emp_length"
   ]
  },
  {
   "cell_type": "code",
   "execution_count": 140,
   "id": "9aeb057c-8e3d-4a3a-8dc9-84078be583d1",
   "metadata": {},
   "outputs": [
    {
     "data": {
      "text/plain": [
       "4.789686296787225"
      ]
     },
     "execution_count": 140,
     "metadata": {},
     "output_type": "execute_result"
    }
   ],
   "source": [
    "df['person_emp_length'].mean()"
   ]
  },
  {
   "cell_type": "code",
   "execution_count": 141,
   "id": "7c03a26f-1bec-4329-8765-b9f1fd99cc11",
   "metadata": {},
   "outputs": [
    {
     "data": {
      "text/plain": [
       "4.0"
      ]
     },
     "execution_count": 141,
     "metadata": {},
     "output_type": "execute_result"
    }
   ],
   "source": [
    "df['person_emp_length'].median()"
   ]
  },
  {
   "cell_type": "code",
   "execution_count": 142,
   "id": "8e5b8724-284c-495b-9890-9933b7c0bc39",
   "metadata": {},
   "outputs": [],
   "source": [
    "df['person_emp_length_bin'] = df['person_emp_length']"
   ]
  },
  {
   "cell_type": "code",
   "execution_count": 143,
   "id": "af25c2c9-e084-40c9-886a-30e3718256da",
   "metadata": {},
   "outputs": [],
   "source": [
    "df['person_emp_length_bin'] = df['person_emp_length_bin'].fillna(4)"
   ]
  },
  {
   "cell_type": "code",
   "execution_count": 144,
   "id": "e314aad9-3c2b-4760-b586-fa85b1dbe8e2",
   "metadata": {},
   "outputs": [
    {
     "data": {
      "text/plain": [
       "Text(0, 0.5, 'Probability Density')"
      ]
     },
     "execution_count": 144,
     "metadata": {},
     "output_type": "execute_result"
    },
    {
     "data": {
      "image/png": "[encoded data removed]",
      "text/plain": [
       "<Figure size 640x480 with 1 Axes>"
      ]
     },
     "metadata": {},
     "output_type": "display_data"
    }
   ],
   "source": [
    "\n",
    "# Plotting the KDE Plot\n",
    "sns.kdeplot(df['person_emp_length_bin'], color='r', shade=True, label='imputation')\n",
    "sns.kdeplot(df['person_emp_length'], color='b', shade=True, label='non_imputation')\n",
    "plt.xlabel('Sepal Length')\n",
    "plt.ylabel('Probability Density')"
   ]
  },
  {
   "cell_type": "code",
   "execution_count": 145,
   "id": "d2a06c74-a1f2-4e09-bfa1-e8816f65c746",
   "metadata": {},
   "outputs": [
    {
     "data": {
      "text/plain": [
       "0        123.0\n",
       "1          5.0\n",
       "2          1.0\n",
       "3          4.0\n",
       "4          8.0\n",
       "         ...  \n",
       "32576      1.0\n",
       "32577      4.0\n",
       "32578      3.0\n",
       "32579      5.0\n",
       "32580      2.0\n",
       "Name: person_emp_length, Length: 32581, dtype: float64"
      ]
     },
     "execution_count": 145,
     "metadata": {},
     "output_type": "execute_result"
    }
   ],
   "source": [
    "df['person_emp_length']"
   ]
  },
  {
   "cell_type": "code",
   "execution_count": null,
   "id": "43972d1a-35b1-4af2-a829-f0760f12a180",
   "metadata": {},
   "outputs": [],
   "source": []
  },
  {
   "cell_type": "markdown",
   "id": "45971a58-d98e-4e9d-a88f-3e62b854a8cf",
   "metadata": {},
   "source": [
    "## loan_int_rate"
   ]
  },
  {
   "cell_type": "code",
   "execution_count": 146,
   "id": "04ae4b64-f056-4e09-a454-b7b78f0683b2",
   "metadata": {},
   "outputs": [
    {
     "data": {
      "text/plain": [
       "11.011694892245036"
      ]
     },
     "execution_count": 146,
     "metadata": {},
     "output_type": "execute_result"
    }
   ],
   "source": [
    "df['loan_int_rate'].mean()"
   ]
  },
  {
   "cell_type": "code",
   "execution_count": 147,
   "id": "fec774bc-7d9a-426e-89a7-8f86b62b1426",
   "metadata": {},
   "outputs": [
    {
     "data": {
      "text/plain": [
       "10.99"
      ]
     },
     "execution_count": 147,
     "metadata": {},
     "output_type": "execute_result"
    }
   ],
   "source": [
    "df['loan_int_rate'].median()"
   ]
  },
  {
   "cell_type": "code",
   "execution_count": 148,
   "id": "8d6d8256-ec9d-4bdc-b468-2726be93c2fc",
   "metadata": {},
   "outputs": [],
   "source": [
    "df['loan_int_rate_bin'] = df['loan_int_rate']"
   ]
  },
  {
   "cell_type": "code",
   "execution_count": 149,
   "id": "4df65896-5d7a-493d-bfc5-f398a772cccd",
   "metadata": {},
   "outputs": [],
   "source": [
    "df['loan_int_rate_bin'] = df['loan_int_rate_bin'].fillna(11)"
   ]
  },
  {
   "cell_type": "code",
   "execution_count": 150,
   "id": "30ca943b-c58d-487e-b47b-c1c9d800d210",
   "metadata": {},
   "outputs": [
    {
     "data": {
      "text/plain": [
       "Text(0, 0.5, 'Probability Density')"
      ]
     },
     "execution_count": 150,
     "metadata": {},
     "output_type": "execute_result"
    },
    {
     "data": {
      "image/png": "[encoded data removed]",
      "text/plain": [
       "<Figure size 640x480 with 1 Axes>"
      ]
     },
     "metadata": {},
     "output_type": "display_data"
    }
   ],
   "source": [
    "# Plotting the KDE Plot\n",
    "sns.kdeplot(df['loan_int_rate_bin'], color='r', shade=True, label='imputation')\n",
    "sns.kdeplot(df['loan_int_rate'], color='b', shade=True, label='non_imputation')\n",
    "plt.xlabel('Sepal Length')\n",
    "plt.ylabel('Probability Density')"
   ]
  },
  {
   "cell_type": "code",
   "execution_count": 151,
   "id": "58259f39-87e2-4632-aee8-ec1a31ed9728",
   "metadata": {},
   "outputs": [
    {
     "data": {
      "text/plain": [
       "person_age                       0\n",
       "person_income                    0\n",
       "person_home_ownership            0\n",
       "person_emp_length              895\n",
       "loan_intent                      0\n",
       "loan_grade                       0\n",
       "loan_amnt                        0\n",
       "loan_int_rate                 3116\n",
       "loan_status                      0\n",
       "loan_percent_income              0\n",
       "cb_person_default_on_file        0\n",
       "cb_person_cred_hist_length       0\n",
       "person_emp_length_bin            0\n",
       "loan_int_rate_bin                0\n",
       "dtype: int64"
      ]
     },
     "execution_count": 151,
     "metadata": {},
     "output_type": "execute_result"
    }
   ],
   "source": [
    "df.isna().sum()"
   ]
  },
  {
   "cell_type": "markdown",
   "id": "fbfb2a6d-585a-4786-97ea-a437c45bec21",
   "metadata": {},
   "source": [
    "## Feature importance using information value"
   ]
  },
  {
   "cell_type": "code",
   "execution_count": 152,
   "id": "94d8f603-61bf-4d67-9a1f-55de4e432557",
   "metadata": {},
   "outputs": [
    {
     "data": {
      "text/plain": [
       "0         59000\n",
       "1          9600\n",
       "2          9600\n",
       "3         65500\n",
       "4         54400\n",
       "          ...  \n",
       "32576     53000\n",
       "32577    120000\n",
       "32578     76000\n",
       "32579    150000\n",
       "32580     42000\n",
       "Name: person_income, Length: 32581, dtype: int64"
      ]
     },
     "execution_count": 152,
     "metadata": {},
     "output_type": "execute_result"
    }
   ],
   "source": [
    "df['person_income']"
   ]
  },
  {
   "cell_type": "code",
   "execution_count": 153,
   "id": "e452e1be-f182-491a-b887-edd9b5bbae3f",
   "metadata": {},
   "outputs": [],
   "source": [
    "df['person_income_bin'] = pd.qcut(df['person_income'],10,labels = np.arange(1,11))"
   ]
  },
  {
   "cell_type": "code",
   "execution_count": 154,
   "id": "21c43a6a-6e8a-48e6-ae54-5257a2f2c853",
   "metadata": {},
   "outputs": [],
   "source": [
    "df['person_income_bin'] = df['person_income_bin'].astype(int)"
   ]
  },
  {
   "cell_type": "code",
   "execution_count": 155,
   "id": "9cb13b9f-8258-4e60-ab7e-5b1666430cef",
   "metadata": {},
   "outputs": [],
   "source": [
    "def information(df):\n",
    "    df['good'] = df['count'] - df['bad']\n",
    "    df['good_perc'] = df['good']/df['good'].sum()\n",
    "    df['bad_perc'] = df['bad']/df['bad'].sum()\n",
    "    df['diff_perc'] = df['good_perc']-df['bad_perc']\n",
    "    df['woe'] = np.log(df['good_perc']/df['bad_perc'])\n",
    "    df['woe'] = df['woe'].replace([np.inf, -np.inf], np.nan).fillna(0)\n",
    "    df['iv'] = df['diff_perc'] * df['woe']\n",
    "    # print('information_value for '+column_name,df['iv'].sum())\n",
    "    return df['iv'].sum()"
   ]
  },
  {
   "cell_type": "code",
   "execution_count": 156,
   "id": "f9c428fe-077d-4c0b-a7d9-0e6cad2d5822",
   "metadata": {},
   "outputs": [],
   "source": [
    "k = df.groupby(['person_income_bin']).agg(person_income_min = ('person_income','min'), person_income_max = ('person_income','max'),\\\n",
    "    count = ('person_income_bin','count'),bad = ('loan_status','sum'),\\\n",
    "                                     ).reset_index()\n",
    "k = k[['count','bad']]"
   ]
  },
  {
   "cell_type": "code",
   "execution_count": 157,
   "id": "e74cc5ea-6e64-4b3a-81d6-144c0a3c0485",
   "metadata": {},
   "outputs": [
    {
     "data": {
      "text/plain": [
       "47.04325807329032"
      ]
     },
     "execution_count": 157,
     "metadata": {},
     "output_type": "execute_result"
    }
   ],
   "source": [
    "information(k)*100"
   ]
  },
  {
   "cell_type": "code",
   "execution_count": 158,
   "id": "e35826b8-adde-4f2e-baad-5ac4a1209f04",
   "metadata": {},
   "outputs": [
    {
     "data": {
      "text/plain": [
       "Index(['person_age', 'person_income', 'person_home_ownership',\n",
       "       'person_emp_length', 'loan_intent', 'loan_grade', 'loan_amnt',\n",
       "       'loan_int_rate', 'loan_status', 'loan_percent_income',\n",
       "       'cb_person_default_on_file', 'cb_person_cred_hist_length',\n",
       "       'person_emp_length_bin', 'loan_int_rate_bin', 'person_income_bin'],\n",
       "      dtype='object')"
      ]
     },
     "execution_count": 158,
     "metadata": {},
     "output_type": "execute_result"
    }
   ],
   "source": [
    "df.columns"
   ]
  },
  {
   "cell_type": "code",
   "execution_count": 159,
   "id": "4329ac64-6231-4cde-9f89-f397958dfcbe",
   "metadata": {},
   "outputs": [],
   "source": [
    "information_value = {}"
   ]
  },
  {
   "cell_type": "markdown",
   "id": "13bebd17-39ef-4ec0-ac41-d843fd68f617",
   "metadata": {},
   "source": [
    "## person_age"
   ]
  },
  {
   "cell_type": "code",
   "execution_count": 160,
   "id": "8fd315e7-0ddc-460b-9fdd-fd02ad3f7080",
   "metadata": {},
   "outputs": [
    {
     "data": {
      "text/plain": [
       "27.73459992019889"
      ]
     },
     "execution_count": 160,
     "metadata": {},
     "output_type": "execute_result"
    }
   ],
   "source": [
    "df['person_age'].mean()"
   ]
  },
  {
   "cell_type": "code",
   "execution_count": 161,
   "id": "68cbd52b-8bc9-445e-9a32-6e1aa848d17d",
   "metadata": {},
   "outputs": [],
   "source": [
    "df['person_age_bin'] = pd.qcut(df['person_age'],10,labels = np.arange(1,11))"
   ]
  },
  {
   "cell_type": "code",
   "execution_count": 162,
   "id": "3e73e466-50b7-462c-ac79-f2bf3110083a",
   "metadata": {},
   "outputs": [],
   "source": [
    "df['person_age_bin'] = df['person_age_bin'].astype(int)"
   ]
  },
  {
   "cell_type": "code",
   "execution_count": 163,
   "id": "dde19f99-6d3a-4599-9290-41950be5e8b4",
   "metadata": {},
   "outputs": [],
   "source": [
    "k = df.groupby(['person_age_bin']).agg(person_age_min = ('person_income','min'), person_age_max = ('person_income','max'),\\\n",
    "    count = ('person_income_bin','count'),bad = ('loan_status','sum'),\\\n",
    "                                     ).reset_index()\n",
    "k = k[['count','bad']]"
   ]
  },
  {
   "cell_type": "code",
   "execution_count": 164,
   "id": "f8877625-9cf4-4d5b-9fdf-1bd0876fa77d",
   "metadata": {},
   "outputs": [
    {
     "data": {
      "text/plain": [
       "1.0275519253197771"
      ]
     },
     "execution_count": 164,
     "metadata": {},
     "output_type": "execute_result"
    }
   ],
   "source": [
    "information(k)*100"
   ]
  },
  {
   "cell_type": "code",
   "execution_count": 165,
   "id": "a0bc607e-3574-4ce1-b563-cb7c086f5432",
   "metadata": {},
   "outputs": [],
   "source": [
    "information_value['person_age'] = information(k)*100"
   ]
  },
  {
   "cell_type": "code",
   "execution_count": 166,
   "id": "9bb4c6e0-baa5-4397-9619-4d823992a12a",
   "metadata": {},
   "outputs": [
    {
     "data": {
      "text/html": [
       "<div>\n",
       "<style scoped>\n",
       "    .dataframe tbody tr th:only-of-type {\n",
       "        vertical-align: middle;\n",
       "    }\n",
       "\n",
       "    .dataframe tbody tr th {\n",
       "        vertical-align: top;\n",
       "    }\n",
       "\n",
       "    .dataframe thead th {\n",
       "        text-align: right;\n",
       "    }\n",
       "</style>\n",
       "<table border=\"1\" class=\"dataframe\">\n",
       "  <thead>\n",
       "    <tr style=\"text-align: right;\">\n",
       "      <th></th>\n",
       "      <th>person_age_bin</th>\n",
       "      <th>person_age_min</th>\n",
       "      <th>person_age_max</th>\n",
       "      <th>count</th>\n",
       "      <th>bad</th>\n",
       "    </tr>\n",
       "  </thead>\n",
       "  <tbody>\n",
       "    <tr>\n",
       "      <th>0</th>\n",
       "      <td>1</td>\n",
       "      <td>20</td>\n",
       "      <td>22</td>\n",
       "      <td>4877</td>\n",
       "      <td>1258</td>\n",
       "    </tr>\n",
       "    <tr>\n",
       "      <th>1</th>\n",
       "      <td>2</td>\n",
       "      <td>23</td>\n",
       "      <td>23</td>\n",
       "      <td>3889</td>\n",
       "      <td>833</td>\n",
       "    </tr>\n",
       "    <tr>\n",
       "      <th>2</th>\n",
       "      <td>3</td>\n",
       "      <td>24</td>\n",
       "      <td>24</td>\n",
       "      <td>3549</td>\n",
       "      <td>769</td>\n",
       "    </tr>\n",
       "    <tr>\n",
       "      <th>3</th>\n",
       "      <td>4</td>\n",
       "      <td>25</td>\n",
       "      <td>25</td>\n",
       "      <td>3037</td>\n",
       "      <td>675</td>\n",
       "    </tr>\n",
       "    <tr>\n",
       "      <th>4</th>\n",
       "      <td>5</td>\n",
       "      <td>26</td>\n",
       "      <td>26</td>\n",
       "      <td>2477</td>\n",
       "      <td>517</td>\n",
       "    </tr>\n",
       "    <tr>\n",
       "      <th>5</th>\n",
       "      <td>6</td>\n",
       "      <td>27</td>\n",
       "      <td>27</td>\n",
       "      <td>2138</td>\n",
       "      <td>444</td>\n",
       "    </tr>\n",
       "    <tr>\n",
       "      <th>6</th>\n",
       "      <td>7</td>\n",
       "      <td>28</td>\n",
       "      <td>29</td>\n",
       "      <td>3541</td>\n",
       "      <td>757</td>\n",
       "    </tr>\n",
       "    <tr>\n",
       "      <th>7</th>\n",
       "      <td>8</td>\n",
       "      <td>30</td>\n",
       "      <td>32</td>\n",
       "      <td>3422</td>\n",
       "      <td>688</td>\n",
       "    </tr>\n",
       "    <tr>\n",
       "      <th>8</th>\n",
       "      <td>9</td>\n",
       "      <td>33</td>\n",
       "      <td>36</td>\n",
       "      <td>2733</td>\n",
       "      <td>563</td>\n",
       "    </tr>\n",
       "    <tr>\n",
       "      <th>9</th>\n",
       "      <td>10</td>\n",
       "      <td>37</td>\n",
       "      <td>144</td>\n",
       "      <td>2918</td>\n",
       "      <td>604</td>\n",
       "    </tr>\n",
       "  </tbody>\n",
       "</table>\n",
       "</div>"
      ],
      "text/plain": [
       "   person_age_bin  person_age_min  person_age_max  count   bad\n",
       "0               1              20              22   4877  1258\n",
       "1               2              23              23   3889   833\n",
       "2               3              24              24   3549   769\n",
       "3               4              25              25   3037   675\n",
       "4               5              26              26   2477   517\n",
       "5               6              27              27   2138   444\n",
       "6               7              28              29   3541   757\n",
       "7               8              30              32   3422   688\n",
       "8               9              33              36   2733   563\n",
       "9              10              37             144   2918   604"
      ]
     },
     "execution_count": 166,
     "metadata": {},
     "output_type": "execute_result"
    }
   ],
   "source": [
    "df.groupby(['person_age_bin']).agg(person_age_min = ('person_age','min'), person_age_max = ('person_age','max'),\\\n",
    "    count = ('person_income_bin','count'),bad = ('loan_status','sum'),\\\n",
    "                                     ).reset_index()"
   ]
  },
  {
   "cell_type": "markdown",
   "id": "dfb37463-d7ec-4f46-b8c2-9dd606ebb32d",
   "metadata": {},
   "source": [
    "### person_emp_length "
   ]
  },
  {
   "cell_type": "code",
   "execution_count": null,
   "id": "44012b63-0328-4285-a088-2c8851a14cfa",
   "metadata": {},
   "outputs": [],
   "source": []
  },
  {
   "cell_type": "code",
   "execution_count": 167,
   "id": "253f4523-8307-4567-974b-4b89f0ce7bf3",
   "metadata": {},
   "outputs": [
    {
     "data": {
      "text/plain": [
       "4.789686296787225"
      ]
     },
     "execution_count": 167,
     "metadata": {},
     "output_type": "execute_result"
    }
   ],
   "source": [
    "df['person_emp_length'].mean()"
   ]
  },
  {
   "cell_type": "code",
   "execution_count": 168,
   "id": "4e55a6ac-a581-45a8-8d24-44e1f5bab858",
   "metadata": {},
   "outputs": [],
   "source": [
    "df['person_emp_length_bin'] = pd.qcut(df['person_age'],10,labels = np.arange(1,11))"
   ]
  },
  {
   "cell_type": "code",
   "execution_count": 169,
   "id": "386d928c-7fa7-4e44-9c89-42958eac26b8",
   "metadata": {},
   "outputs": [],
   "source": [
    "df['person_emp_length_bin'] = df['person_emp_length_bin'].astype(int)"
   ]
  },
  {
   "cell_type": "code",
   "execution_count": 170,
   "id": "6aad7764-5661-4769-8bcb-f18cf6006ded",
   "metadata": {},
   "outputs": [],
   "source": [
    "k = df.groupby(['person_emp_length_bin']).agg(person_emp_length_min = ('person_emp_length','min'),person_emp_length_max = ('person_emp_length','max'),\\\n",
    "    count = ('person_emp_length_bin','count'),bad = ('loan_status','sum'),\\\n",
    "                                     ).reset_index()\n",
    "k = k[['count','bad']]"
   ]
  },
  {
   "cell_type": "code",
   "execution_count": 171,
   "id": "0a2612c3-eda6-4b53-8434-19709e33402e",
   "metadata": {},
   "outputs": [
    {
     "data": {
      "text/plain": [
       "1.0275519253197771"
      ]
     },
     "execution_count": 171,
     "metadata": {},
     "output_type": "execute_result"
    }
   ],
   "source": [
    "information(k)*100"
   ]
  },
  {
   "cell_type": "code",
   "execution_count": 172,
   "id": "bb791c79-62de-4e7a-9fa2-d45c56ce6cf1",
   "metadata": {},
   "outputs": [],
   "source": [
    "information_value['person_emp_length'] = information(k)*100"
   ]
  },
  {
   "cell_type": "markdown",
   "id": "41f41575-b50d-4cb8-9573-5cbd7c4094d9",
   "metadata": {},
   "source": [
    "### loan_amnt  "
   ]
  },
  {
   "cell_type": "code",
   "execution_count": 173,
   "id": "7f33f503-a8c7-4c21-ae9c-881ec24314ea",
   "metadata": {},
   "outputs": [
    {
     "data": {
      "text/plain": [
       "9589.371105859243"
      ]
     },
     "execution_count": 173,
     "metadata": {},
     "output_type": "execute_result"
    }
   ],
   "source": [
    "df['loan_amnt'].mean()"
   ]
  },
  {
   "cell_type": "code",
   "execution_count": 174,
   "id": "25f349ff-eb3b-4dde-898f-2d7a2fd9fafa",
   "metadata": {},
   "outputs": [],
   "source": [
    "df['loan_amnt_bin'] = pd.qcut(df['loan_amnt'],10,labels = np.arange(1,11))"
   ]
  },
  {
   "cell_type": "code",
   "execution_count": 175,
   "id": "8b216ebd-da3b-4091-ba9b-df341bc1edd5",
   "metadata": {},
   "outputs": [],
   "source": [
    "df['loan_amnt_bin'] = df['loan_amnt_bin'].astype(int)"
   ]
  },
  {
   "cell_type": "code",
   "execution_count": 176,
   "id": "4fd36abf-93f8-4167-bf55-6a84f9d1860d",
   "metadata": {},
   "outputs": [],
   "source": [
    "k = df.groupby(['loan_amnt_bin']).agg(loan_amnt_min = ('loan_amnt','min'),loan_amnt_max = ('loan_amnt','max'),\\\n",
    "    count = ('loan_amnt_bin','count'),bad = ('loan_status','sum'),\\\n",
    "                                     ).reset_index()\n",
    "k = k[['count','bad']]"
   ]
  },
  {
   "cell_type": "code",
   "execution_count": 177,
   "id": "23f95939-4302-4609-8c9f-7423db8936c4",
   "metadata": {},
   "outputs": [
    {
     "data": {
      "text/plain": [
       "8.56400844288612"
      ]
     },
     "execution_count": 177,
     "metadata": {},
     "output_type": "execute_result"
    }
   ],
   "source": [
    "information(k)*100"
   ]
  },
  {
   "cell_type": "code",
   "execution_count": 178,
   "id": "17cfa933-ef3b-49d9-81fd-db513ac3cc1d",
   "metadata": {},
   "outputs": [],
   "source": [
    "information_value['loan_amnt'] = information(k)*100"
   ]
  },
  {
   "cell_type": "markdown",
   "id": "8990023e-40df-42bf-8f4f-f046ccba2450",
   "metadata": {},
   "source": [
    "### loan_int_rate "
   ]
  },
  {
   "cell_type": "code",
   "execution_count": 179,
   "id": "fd8ac3e1-b503-4c7d-97d6-1818cc890ff1",
   "metadata": {},
   "outputs": [
    {
     "data": {
      "text/plain": [
       "11.011694892245036"
      ]
     },
     "execution_count": 179,
     "metadata": {},
     "output_type": "execute_result"
    }
   ],
   "source": [
    "df['loan_int_rate'].mean()"
   ]
  },
  {
   "cell_type": "code",
   "execution_count": 180,
   "id": "abb3d387-9624-4de7-81a1-af426707c6bd",
   "metadata": {},
   "outputs": [],
   "source": [
    "df['loan_int_rate_bin_ex'] = pd.qcut(df['loan_int_rate_bin'],10,labels = np.arange(1,11))"
   ]
  },
  {
   "cell_type": "code",
   "execution_count": 181,
   "id": "77ff465b-f637-4f02-83c6-e846d0192825",
   "metadata": {},
   "outputs": [],
   "source": [
    "df['loan_int_rate_bin_ex'] = df['loan_int_rate_bin_ex'].astype(float)"
   ]
  },
  {
   "cell_type": "code",
   "execution_count": 182,
   "id": "5fdfd8bc-c263-48f9-b36d-2aa222f524be",
   "metadata": {},
   "outputs": [],
   "source": [
    "k = df.groupby(['loan_int_rate_bin_ex']).agg(loan_int_rate_min = ('loan_int_rate_bin_ex','min'),loan_int_rate_max = ('loan_int_rate_bin_ex','max'),\\\n",
    "    count = ('loan_int_rate_bin','count'),bad = ('loan_status','sum'),\\\n",
    "                                     ).reset_index()\n",
    "k = k[['count','bad']]"
   ]
  },
  {
   "cell_type": "code",
   "execution_count": 183,
   "id": "116353ba-0e33-4a0b-8e31-d5c33446bd10",
   "metadata": {},
   "outputs": [
    {
     "data": {
      "text/plain": [
       "64.38380247398497"
      ]
     },
     "execution_count": 183,
     "metadata": {},
     "output_type": "execute_result"
    }
   ],
   "source": [
    "information(k)*100"
   ]
  },
  {
   "cell_type": "code",
   "execution_count": 184,
   "id": "23d7a51c-9bc3-4143-be76-3d817e8c1c0b",
   "metadata": {},
   "outputs": [],
   "source": [
    "information_value['loan_int_rate_bin_ex'] = information(k)*100"
   ]
  },
  {
   "cell_type": "markdown",
   "id": "bbcac01f-4824-4cd7-8bdf-1ee86478ad47",
   "metadata": {},
   "source": [
    "### loan_percent_income "
   ]
  },
  {
   "cell_type": "code",
   "execution_count": 185,
   "id": "4222c5fc-2ec9-426d-b49f-97a9c0080d85",
   "metadata": {
    "scrolled": true
   },
   "outputs": [
    {
     "data": {
      "text/plain": [
       "0.1702034928332464"
      ]
     },
     "execution_count": 185,
     "metadata": {},
     "output_type": "execute_result"
    }
   ],
   "source": [
    "df['loan_percent_income'].mean()"
   ]
  },
  {
   "cell_type": "code",
   "execution_count": 186,
   "id": "aab0e5ec-40b0-404b-9c07-171585fd6ef4",
   "metadata": {},
   "outputs": [],
   "source": [
    "df['loan_percent_income_bin'] = pd.qcut(df['loan_percent_income'],10,labels = np.arange(1,11))"
   ]
  },
  {
   "cell_type": "code",
   "execution_count": 187,
   "id": "ece1cd99-0e24-4f17-ac17-43fe1726b7ca",
   "metadata": {},
   "outputs": [],
   "source": [
    "df['loan_percent_income_bin'] = df['loan_percent_income_bin'].astype(int)"
   ]
  },
  {
   "cell_type": "code",
   "execution_count": 188,
   "id": "19aee807-1038-4bcd-8bbd-5efa45985599",
   "metadata": {},
   "outputs": [],
   "source": [
    "k = df.groupby(['loan_percent_income_bin']).agg(loan_percent_income_min = ('loan_percent_income','min'),loan_percent_income_max = ('loan_percent_income','max'),\\\n",
    "    count = ('loan_percent_income_bin','count'),bad = ('loan_status','sum'),\\\n",
    "                                     ).reset_index()\n",
    "k = k[['count','bad']]"
   ]
  },
  {
   "cell_type": "code",
   "execution_count": 189,
   "id": "1e5667d1-37d1-4cb4-9070-22e4783612e9",
   "metadata": {},
   "outputs": [
    {
     "data": {
      "text/plain": [
       "87.14603407389853"
      ]
     },
     "execution_count": 189,
     "metadata": {},
     "output_type": "execute_result"
    }
   ],
   "source": [
    "information(k)*100"
   ]
  },
  {
   "cell_type": "code",
   "execution_count": 190,
   "id": "40d2f282-0d09-49ed-bfde-de615656b598",
   "metadata": {},
   "outputs": [],
   "source": [
    "information_value['loan_percent_income'] = information(k)*100"
   ]
  },
  {
   "cell_type": "markdown",
   "id": "8e524d5c-3a0a-4998-a898-0180c1d4fd18",
   "metadata": {},
   "source": [
    "### loan_intent "
   ]
  },
  {
   "cell_type": "code",
   "execution_count": 191,
   "id": "c5b0e73c-bdf2-45c5-a828-1d58c7042f4f",
   "metadata": {},
   "outputs": [],
   "source": [
    "k = df.groupby(['loan_intent']).agg(loan_intent_min = ('loan_intent','min'), loan_intent_max = ('loan_intent','max'),\\\n",
    "    count = ('loan_intent','count'),bad = ('loan_status','sum'),\\\n",
    "                                     ).reset_index()\n",
    "k = k[['count','bad']]"
   ]
  },
  {
   "cell_type": "code",
   "execution_count": 192,
   "id": "0dfc8a25-2ef4-4746-ac20-a7595e88a83a",
   "metadata": {},
   "outputs": [
    {
     "data": {
      "text/plain": [
       "9.575234776986626"
      ]
     },
     "execution_count": 192,
     "metadata": {},
     "output_type": "execute_result"
    }
   ],
   "source": [
    "information(k)*100"
   ]
  },
  {
   "cell_type": "code",
   "execution_count": 193,
   "id": "0eecc4ac-089d-4cb3-b73e-645cd99fea5f",
   "metadata": {},
   "outputs": [],
   "source": [
    "information_value['loan_intent'] = information(k)*100"
   ]
  },
  {
   "cell_type": "markdown",
   "id": "293d31b8-5d26-4ca1-82f6-ce69a8a91543",
   "metadata": {},
   "source": [
    "### person_home_ownership"
   ]
  },
  {
   "cell_type": "code",
   "execution_count": 194,
   "id": "ec5a6133-4624-4011-b00e-f08eb417aff9",
   "metadata": {},
   "outputs": [],
   "source": [
    "k = df.groupby(['person_home_ownership']).agg(person_home_ownership_min = ('person_home_ownership','min'), person_home_ownership_max = ('person_home_ownership','max'),\\\n",
    "    count = ('person_home_ownership','count'),bad = ('loan_status','sum'),\\\n",
    "                                     ).reset_index()\n",
    "k = k[['count','bad']]"
   ]
  },
  {
   "cell_type": "code",
   "execution_count": 195,
   "id": "b988d87e-ee11-44ae-94af-45e8c81f494f",
   "metadata": {},
   "outputs": [
    {
     "data": {
      "text/plain": [
       "37.69981794717246"
      ]
     },
     "execution_count": 195,
     "metadata": {},
     "output_type": "execute_result"
    }
   ],
   "source": [
    "information(k)*100"
   ]
  },
  {
   "cell_type": "code",
   "execution_count": 196,
   "id": "78348171-db13-4cd1-a243-f95238d5b9d5",
   "metadata": {},
   "outputs": [],
   "source": [
    "information_value['person_home_ownership'] = information(k)*100"
   ]
  },
  {
   "cell_type": "markdown",
   "id": "1da390bb-044e-40c5-b875-d73a4938f78b",
   "metadata": {},
   "source": [
    "### cb_person_default_on_file"
   ]
  },
  {
   "cell_type": "code",
   "execution_count": 197,
   "id": "0f13141c-af5f-4f8b-b106-b3bbc5faa90c",
   "metadata": {},
   "outputs": [],
   "source": [
    "k = df.groupby(['cb_person_default_on_file']).agg(cb_person_default_on_file_min = ('cb_person_default_on_file','min'), cb_person_default_on_file_max = ('person_home_ownership','max'),\\\n",
    "    count = ('cb_person_default_on_file','count'),bad = ('loan_status','sum'),\\\n",
    "                                     ).reset_index()\n",
    "k = k[['count','bad']]"
   ]
  },
  {
   "cell_type": "code",
   "execution_count": 198,
   "id": "d3ae3f5a-c774-41d4-a486-8198b0234e2c",
   "metadata": {},
   "outputs": [
    {
     "data": {
      "text/plain": [
       "16.40113747479888"
      ]
     },
     "execution_count": 198,
     "metadata": {},
     "output_type": "execute_result"
    }
   ],
   "source": [
    "information(k)*100"
   ]
  },
  {
   "cell_type": "code",
   "execution_count": 199,
   "id": "2e266fe3-50f5-4a4a-8e4b-1f971399d512",
   "metadata": {},
   "outputs": [],
   "source": [
    "information_value['cb_person_default_on_file'] = information(k)*100"
   ]
  },
  {
   "cell_type": "markdown",
   "id": "c2334ff6-4997-4785-9b37-2ccac328356a",
   "metadata": {},
   "source": [
    "### cb_person_cred_hist_length"
   ]
  },
  {
   "cell_type": "code",
   "execution_count": 200,
   "id": "91075bb0-47a3-4e22-a597-472aed068345",
   "metadata": {},
   "outputs": [
    {
     "data": {
      "text/plain": [
       "5.804211043246064"
      ]
     },
     "execution_count": 200,
     "metadata": {},
     "output_type": "execute_result"
    }
   ],
   "source": [
    "df['cb_person_cred_hist_length'].mean()"
   ]
  },
  {
   "cell_type": "code",
   "execution_count": 201,
   "id": "6765b1b4-3c0b-41f0-a857-4675ef7cd40f",
   "metadata": {},
   "outputs": [],
   "source": [
    "k = df.groupby(['cb_person_cred_hist_length']).agg(cb_person_cred_hist_length_min = ('cb_person_cred_hist_length','min'), cb_person_cred_hist_length_max = ('cb_person_cred_hist_length','max'),\\\n",
    "    count = ('cb_person_cred_hist_length','count'),bad = ('loan_status','sum'),\\\n",
    "                                     ).reset_index()\n",
    "k = k[['count','bad']]"
   ]
  },
  {
   "cell_type": "code",
   "execution_count": 202,
   "id": "354beca3-1de3-42ff-a79c-07af9eaddaca",
   "metadata": {},
   "outputs": [
    {
     "data": {
      "text/plain": [
       "0.7416347396847996"
      ]
     },
     "execution_count": 202,
     "metadata": {},
     "output_type": "execute_result"
    }
   ],
   "source": [
    "information(k)*100"
   ]
  },
  {
   "cell_type": "code",
   "execution_count": 203,
   "id": "7a06c635-70bf-45ff-89c8-46999c095fab",
   "metadata": {},
   "outputs": [],
   "source": [
    "information_value['cb_person_cred_hist_length'] = information(k)*100"
   ]
  },
  {
   "cell_type": "code",
   "execution_count": 204,
   "id": "7e4d61b3-17b6-4920-814f-ca17b11ced42",
   "metadata": {},
   "outputs": [
    {
     "data": {
      "text/plain": [
       "Index(['person_age', 'person_income', 'person_home_ownership',\n",
       "       'person_emp_length', 'loan_intent', 'loan_grade', 'loan_amnt',\n",
       "       'loan_int_rate', 'loan_status', 'loan_percent_income',\n",
       "       'cb_person_default_on_file', 'cb_person_cred_hist_length',\n",
       "       'person_emp_length_bin', 'loan_int_rate_bin', 'person_income_bin',\n",
       "       'person_age_bin', 'loan_amnt_bin', 'loan_int_rate_bin_ex',\n",
       "       'loan_percent_income_bin'],\n",
       "      dtype='object')"
      ]
     },
     "execution_count": 204,
     "metadata": {},
     "output_type": "execute_result"
    }
   ],
   "source": [
    "df.columns"
   ]
  },
  {
   "cell_type": "code",
   "execution_count": 205,
   "id": "b454f726-5e32-4418-9b09-b68a482f7142",
   "metadata": {},
   "outputs": [
    {
     "data": {
      "text/plain": [
       "{'person_age': 1.0275519253197771,\n",
       " 'person_emp_length': 1.0275519253197771,\n",
       " 'loan_amnt': 8.56400844288612,\n",
       " 'loan_int_rate_bin_ex': 64.38380247398497,\n",
       " 'loan_percent_income': 87.14603407389853,\n",
       " 'loan_intent': 9.575234776986626,\n",
       " 'person_home_ownership': 37.69981794717246,\n",
       " 'cb_person_default_on_file': 16.40113747479888,\n",
       " 'cb_person_cred_hist_length': 0.7416347396847996}"
      ]
     },
     "execution_count": 205,
     "metadata": {},
     "output_type": "execute_result"
    }
   ],
   "source": [
    "information_value"
   ]
  },
  {
   "cell_type": "markdown",
   "id": "9bd8fb6b-549f-4f53-8c1a-10a8825f9665",
   "metadata": {},
   "source": [
    "### person_income\t"
   ]
  },
  {
   "cell_type": "code",
   "execution_count": 206,
   "id": "14108228-c7ef-44f9-bc44-82011eb3ae18",
   "metadata": {},
   "outputs": [
    {
     "data": {
      "text/plain": [
       "66074.84846996715"
      ]
     },
     "execution_count": 206,
     "metadata": {},
     "output_type": "execute_result"
    }
   ],
   "source": [
    "df['person_income'].mean()"
   ]
  },
  {
   "cell_type": "code",
   "execution_count": 207,
   "id": "26d0c909-4287-46f6-98d9-9abd78efe0e7",
   "metadata": {},
   "outputs": [],
   "source": [
    "df['person_income_bin'] = pd.qcut(df['person_income'],10,labels = np.arange(1,11))"
   ]
  },
  {
   "cell_type": "code",
   "execution_count": 208,
   "id": "db583b01-4bac-444f-9a8c-351e911b77aa",
   "metadata": {},
   "outputs": [],
   "source": [
    "df['person_income_bin'] = df['person_income_bin'].astype(int)"
   ]
  },
  {
   "cell_type": "code",
   "execution_count": 209,
   "id": "941b6516-865c-46d4-a2df-60c34b908b4a",
   "metadata": {},
   "outputs": [],
   "source": [
    "k = df.groupby(['person_income_bin']).agg(loan_int_rate_min = ('person_income','min'),person_income_max = ('person_income','max'),\\\n",
    "    count = ('person_income_bin','count'),bad = ('loan_status','sum'),\\\n",
    "                                     ).reset_index()\n",
    "k = k[['count','bad']]"
   ]
  },
  {
   "cell_type": "code",
   "execution_count": 210,
   "id": "2261032b-e9a7-41db-b4bf-a8a222a2c08e",
   "metadata": {},
   "outputs": [
    {
     "data": {
      "text/plain": [
       "47.04325807329032"
      ]
     },
     "execution_count": 210,
     "metadata": {},
     "output_type": "execute_result"
    }
   ],
   "source": [
    "information(k)*100"
   ]
  },
  {
   "cell_type": "code",
   "execution_count": 211,
   "id": "4f634f9d-dd57-4735-8d8e-787f37bb3c9c",
   "metadata": {},
   "outputs": [],
   "source": [
    "information_value['person_income_bin'] = information(k)*100"
   ]
  },
  {
   "cell_type": "code",
   "execution_count": null,
   "id": "6794e5a5-1a7b-4912-abb4-172c342f8fb2",
   "metadata": {},
   "outputs": [],
   "source": []
  },
  {
   "cell_type": "code",
   "execution_count": null,
   "id": "62e08d18-de9c-403b-8288-adbedfbd0e50",
   "metadata": {},
   "outputs": [],
   "source": []
  },
  {
   "cell_type": "markdown",
   "id": "172b2c4a-658a-481b-87f2-3ea647f4f0a4",
   "metadata": {},
   "source": [
    "### cb_person_cred_hist_length"
   ]
  },
  {
   "cell_type": "code",
   "execution_count": 212,
   "id": "b7c1e0ce-4432-4828-94d6-21ab0d5d4f9d",
   "metadata": {},
   "outputs": [],
   "source": [
    "# df['loan_grade'].mean()"
   ]
  },
  {
   "cell_type": "code",
   "execution_count": 213,
   "id": "e68c9382-ec19-4322-9896-206afb2e5df7",
   "metadata": {},
   "outputs": [],
   "source": [
    "k = df.groupby(['loan_grade']).agg(cb_person_cred_hist_length_min = ('loan_grade','min'), cb_person_cred_hist_length_max = ('loan_grade','max'),\\\n",
    "    count = ('cb_person_cred_hist_length','count'),bad = ('loan_status','sum'),\\\n",
    "                                     ).reset_index()\n",
    "k = k[['count','bad']]"
   ]
  },
  {
   "cell_type": "code",
   "execution_count": 214,
   "id": "27877a85-30de-4ab2-b890-409939d50791",
   "metadata": {},
   "outputs": [
    {
     "data": {
      "text/plain": [
       "88.17355889851753"
      ]
     },
     "execution_count": 214,
     "metadata": {},
     "output_type": "execute_result"
    }
   ],
   "source": [
    "information(k)*100"
   ]
  },
  {
   "cell_type": "code",
   "execution_count": 215,
   "id": "912ae7e5-b7dc-4f7e-a62d-c0c3e1259f21",
   "metadata": {},
   "outputs": [],
   "source": [
    "information_value['loan_grade'] = information(k)*100"
   ]
  },
  {
   "cell_type": "code",
   "execution_count": 216,
   "id": "a831e4c5-c3b9-44fe-ac89-73d0ffeeca4d",
   "metadata": {},
   "outputs": [
    {
     "data": {
      "text/plain": [
       "Index(['person_age', 'person_income', 'person_home_ownership',\n",
       "       'person_emp_length', 'loan_intent', 'loan_grade', 'loan_amnt',\n",
       "       'loan_int_rate', 'loan_status', 'loan_percent_income',\n",
       "       'cb_person_default_on_file', 'cb_person_cred_hist_length',\n",
       "       'person_emp_length_bin', 'loan_int_rate_bin', 'person_income_bin',\n",
       "       'person_age_bin', 'loan_amnt_bin', 'loan_int_rate_bin_ex',\n",
       "       'loan_percent_income_bin'],\n",
       "      dtype='object')"
      ]
     },
     "execution_count": 216,
     "metadata": {},
     "output_type": "execute_result"
    }
   ],
   "source": [
    "df.columns"
   ]
  },
  {
   "cell_type": "code",
   "execution_count": 217,
   "id": "82305203-1458-4ec9-8c66-2c3e2780e289",
   "metadata": {},
   "outputs": [],
   "source": [
    "information_value = dict(sorted(information_value.items(), key=lambda item: item[1],reverse=True))"
   ]
  },
  {
   "cell_type": "code",
   "execution_count": 218,
   "id": "58273950-d912-4058-8d43-968648e273fc",
   "metadata": {
    "scrolled": true
   },
   "outputs": [
    {
     "data": {
      "text/plain": [
       "{'loan_grade': 88.17355889851753,\n",
       " 'loan_percent_income': 87.14603407389853,\n",
       " 'loan_int_rate_bin_ex': 64.38380247398497,\n",
       " 'person_income_bin': 47.04325807329032,\n",
       " 'person_home_ownership': 37.69981794717246,\n",
       " 'cb_person_default_on_file': 16.40113747479888,\n",
       " 'loan_intent': 9.575234776986626,\n",
       " 'loan_amnt': 8.56400844288612,\n",
       " 'person_age': 1.0275519253197771,\n",
       " 'person_emp_length': 1.0275519253197771,\n",
       " 'cb_person_cred_hist_length': 0.7416347396847996}"
      ]
     },
     "execution_count": 218,
     "metadata": {},
     "output_type": "execute_result"
    }
   ],
   "source": [
    "information_value"
   ]
  },
  {
   "cell_type": "code",
   "execution_count": 219,
   "id": "7c46f936-2c32-4d59-8856-6123e1430a09",
   "metadata": {},
   "outputs": [
    {
     "data": {
      "text/plain": [
       "dict_keys(['loan_grade', 'loan_percent_income', 'loan_int_rate_bin_ex', 'person_income_bin', 'person_home_ownership', 'cb_person_default_on_file', 'loan_intent', 'loan_amnt', 'person_age', 'person_emp_length', 'cb_person_cred_hist_length'])"
      ]
     },
     "execution_count": 219,
     "metadata": {},
     "output_type": "execute_result"
    }
   ],
   "source": [
    "information_value.keys()"
   ]
  },
  {
   "cell_type": "code",
   "execution_count": 220,
   "id": "95ed08a5-bd12-4669-9494-4249b3e23fa3",
   "metadata": {},
   "outputs": [],
   "source": [
    "df = df[['loan_grade', 'loan_percent_income', 'loan_int_rate_bin', 'person_income', \\\n",
    "         'person_home_ownership', 'cb_person_default_on_file', 'loan_intent', 'loan_amnt','loan_status']]"
   ]
  },
  {
   "cell_type": "code",
   "execution_count": 221,
   "id": "2bbbacf2-87e9-4385-ae9a-09e79277f538",
   "metadata": {},
   "outputs": [
    {
     "data": {
      "text/plain": [
       "336"
      ]
     },
     "execution_count": 221,
     "metadata": {},
     "output_type": "execute_result"
    }
   ],
   "source": [
    "df['loan_grade'].nunique() * df['person_home_ownership'].nunique() * df['cb_person_default_on_file'].nunique()*\\\n",
    "df['loan_intent'].nunique() "
   ]
  },
  {
   "cell_type": "code",
   "execution_count": 222,
   "id": "c9f47a07-6ccd-4a92-bac9-b32bf9646190",
   "metadata": {},
   "outputs": [
    {
     "data": {
      "text/plain": [
       "['loan_percent_income', 'loan_int_rate', 'person_income', 'loan_amnt']"
      ]
     },
     "execution_count": 222,
     "metadata": {},
     "output_type": "execute_result"
    }
   ],
   "source": [
    "['loan_percent_income','loan_int_rate','person_income','loan_amnt']"
   ]
  },
  {
   "cell_type": "code",
   "execution_count": 223,
   "id": "4a0d3286-59ec-47a7-9971-0e3e7e22a27d",
   "metadata": {},
   "outputs": [],
   "source": [
    "# df['loan_grade'].value_counts()"
   ]
  },
  {
   "cell_type": "markdown",
   "id": "d9e8439f-d9dc-487e-aac2-e905caa42926",
   "metadata": {},
   "source": [
    "### Handlig Outliers"
   ]
  },
  {
   "cell_type": "code",
   "execution_count": 224,
   "id": "328967f7-e5a3-4c35-b690-17f5a1d69c4b",
   "metadata": {},
   "outputs": [],
   "source": [
    "drop_cols=['loan_status']"
   ]
  },
  {
   "cell_type": "code",
   "execution_count": 225,
   "id": "fb1fa1ef-c7fb-49ef-bbfc-46e3e5b4cc23",
   "metadata": {},
   "outputs": [
    {
     "data": {
      "text/html": [
       "<div>\n",
       "<style scoped>\n",
       "    .dataframe tbody tr th:only-of-type {\n",
       "        vertical-align: middle;\n",
       "    }\n",
       "\n",
       "    .dataframe tbody tr th {\n",
       "        vertical-align: top;\n",
       "    }\n",
       "\n",
       "    .dataframe thead th {\n",
       "        text-align: right;\n",
       "    }\n",
       "</style>\n",
       "<table border=\"1\" class=\"dataframe\">\n",
       "  <thead>\n",
       "    <tr style=\"text-align: right;\">\n",
       "      <th></th>\n",
       "      <th>loan_grade</th>\n",
       "      <th>loan_percent_income</th>\n",
       "      <th>loan_int_rate_bin</th>\n",
       "      <th>person_income</th>\n",
       "      <th>person_home_ownership</th>\n",
       "      <th>cb_person_default_on_file</th>\n",
       "      <th>loan_intent</th>\n",
       "      <th>loan_amnt</th>\n",
       "    </tr>\n",
       "  </thead>\n",
       "  <tbody>\n",
       "    <tr>\n",
       "      <th>0</th>\n",
       "      <td>D</td>\n",
       "      <td>0.59</td>\n",
       "      <td>16.02</td>\n",
       "      <td>59000</td>\n",
       "      <td>RENT</td>\n",
       "      <td>Y</td>\n",
       "      <td>PERSONAL</td>\n",
       "      <td>35000</td>\n",
       "    </tr>\n",
       "    <tr>\n",
       "      <th>1</th>\n",
       "      <td>B</td>\n",
       "      <td>0.10</td>\n",
       "      <td>11.14</td>\n",
       "      <td>9600</td>\n",
       "      <td>OWN</td>\n",
       "      <td>N</td>\n",
       "      <td>EDUCATION</td>\n",
       "      <td>1000</td>\n",
       "    </tr>\n",
       "    <tr>\n",
       "      <th>2</th>\n",
       "      <td>C</td>\n",
       "      <td>0.57</td>\n",
       "      <td>12.87</td>\n",
       "      <td>9600</td>\n",
       "      <td>MORTGAGE</td>\n",
       "      <td>N</td>\n",
       "      <td>MEDICAL</td>\n",
       "      <td>5500</td>\n",
       "    </tr>\n",
       "    <tr>\n",
       "      <th>3</th>\n",
       "      <td>C</td>\n",
       "      <td>0.53</td>\n",
       "      <td>15.23</td>\n",
       "      <td>65500</td>\n",
       "      <td>RENT</td>\n",
       "      <td>N</td>\n",
       "      <td>MEDICAL</td>\n",
       "      <td>35000</td>\n",
       "    </tr>\n",
       "    <tr>\n",
       "      <th>4</th>\n",
       "      <td>C</td>\n",
       "      <td>0.55</td>\n",
       "      <td>14.27</td>\n",
       "      <td>54400</td>\n",
       "      <td>RENT</td>\n",
       "      <td>Y</td>\n",
       "      <td>MEDICAL</td>\n",
       "      <td>35000</td>\n",
       "    </tr>\n",
       "  </tbody>\n",
       "</table>\n",
       "</div>"
      ],
      "text/plain": [
       "  loan_grade  loan_percent_income  loan_int_rate_bin  person_income  \\\n",
       "0          D                 0.59              16.02          59000   \n",
       "1          B                 0.10              11.14           9600   \n",
       "2          C                 0.57              12.87           9600   \n",
       "3          C                 0.53              15.23          65500   \n",
       "4          C                 0.55              14.27          54400   \n",
       "\n",
       "  person_home_ownership cb_person_default_on_file loan_intent  loan_amnt  \n",
       "0                  RENT                         Y    PERSONAL      35000  \n",
       "1                   OWN                         N   EDUCATION       1000  \n",
       "2              MORTGAGE                         N     MEDICAL       5500  \n",
       "3                  RENT                         N     MEDICAL      35000  \n",
       "4                  RENT                         Y     MEDICAL      35000  "
      ]
     },
     "execution_count": 225,
     "metadata": {},
     "output_type": "execute_result"
    }
   ],
   "source": [
    "X=df.drop(drop_cols,axis=1)\n",
    "X.head()"
   ]
  },
  {
   "cell_type": "code",
   "execution_count": 226,
   "id": "70930f94-6e3a-447e-a3ce-b42f4e642ad2",
   "metadata": {},
   "outputs": [],
   "source": [
    "def boxPlot(dff):\n",
    "    d = df[['loan_percent_income','loan_int_rate_bin','person_income','loan_amnt']]\n",
    "    for column in d:\n",
    "        plt.figure(figsize=(5, 2))\n",
    "        sns.boxplot(x=column, data=d, palette=\"colorblind\")"
   ]
  },
  {
   "cell_type": "code",
   "execution_count": 227,
   "id": "bd5155ed-79aa-4bb3-9d34-c4adbb35b26e",
   "metadata": {},
   "outputs": [
    {
     "data": {
      "text/plain": [
       "loan_grade                   0\n",
       "loan_percent_income          0\n",
       "loan_int_rate_bin            0\n",
       "person_income                0\n",
       "person_home_ownership        0\n",
       "cb_person_default_on_file    0\n",
       "loan_intent                  0\n",
       "loan_amnt                    0\n",
       "loan_status                  0\n",
       "dtype: int64"
      ]
     },
     "execution_count": 227,
     "metadata": {},
     "output_type": "execute_result"
    }
   ],
   "source": [
    "df.isna().sum()"
   ]
  },
  {
   "cell_type": "code",
   "execution_count": 228,
   "id": "c519d148-7cc3-47b0-8fa0-d05d3724d604",
   "metadata": {
    "scrolled": true
   },
   "outputs": [
    {
     "data": {
      "image/png": "[encoded data removed]",
      "text/plain": [
       "<Figure size 500x200 with 1 Axes>"
      ]
     },
     "metadata": {},
     "output_type": "display_data"
    },
    {
     "data": {
      "image/png": "[encoded data removed]",
      "text/plain": [
       "<Figure size 500x200 with 1 Axes>"
      ]
     },
     "metadata": {},
     "output_type": "display_data"
    },
    {
     "data": {
      "image/png": "[encoded data removed]",
      "text/plain": [
       "<Figure size 500x200 with 1 Axes>"
      ]
     },
     "metadata": {},
     "output_type": "display_data"
    },
    {
     "data": {
      "image/png": "[encoded data removed]",
      "text/plain": [
       "<Figure size 500x200 with 1 Axes>"
      ]
     },
     "metadata": {},
     "output_type": "display_data"
    }
   ],
   "source": [
    "boxPlot(df)"
   ]
  },
  {
   "cell_type": "code",
   "execution_count": 229,
   "id": "c6322336-6d48-45e8-b101-35490de2171e",
   "metadata": {},
   "outputs": [],
   "source": [
    "def boxPlot_transform(dff):\n",
    "    d = df.copy()\n",
    "    for column in ['loan_percent_income','loan_int_rate_bin','person_income','loan_amnt']:\n",
    "        plt.figure(figsize=(5, 2))\n",
    "        \n",
    "        # Calculate IQR\n",
    "        Q1 = d[column].quantile(0.25)\n",
    "        Q3 = d[column].quantile(0.75)\n",
    "        IQR = Q3 - Q1\n",
    "        lower_bound = Q1 - (1.5 * IQR)\n",
    "        upper_bound = Q3 + (1.5 * IQR)\n",
    "        \n",
    "        d[column] = d[column].apply(lambda x: lower_bound if x < lower_bound else (upper_bound if x > upper_bound else x))\n",
    "        \n",
    "        sns.boxplot(x=column, data=d, palette=\"colorblind\")\n",
    "    return d"
   ]
  },
  {
   "cell_type": "code",
   "execution_count": 230,
   "id": "06202475-efc8-43dd-85a3-4e6d779d115e",
   "metadata": {},
   "outputs": [
    {
     "data": {
      "image/png": "[encoded data removed]",
      "text/plain": [
       "<Figure size 500x200 with 1 Axes>"
      ]
     },
     "metadata": {},
     "output_type": "display_data"
    },
    {
     "data": {
      "image/png": "[encoded data removed]",
      "text/plain": [
       "<Figure size 500x200 with 1 Axes>"
      ]
     },
     "metadata": {},
     "output_type": "display_data"
    },
    {
     "data": {
      "image/png": "[encoded data removed]",
      "text/plain": [
       "<Figure size 500x200 with 1 Axes>"
      ]
     },
     "metadata": {},
     "output_type": "display_data"
    },
    {
     "data": {
      "image/png": "[encoded data removed]",
      "text/plain": [
       "<Figure size 500x200 with 1 Axes>"
      ]
     },
     "metadata": {},
     "output_type": "display_data"
    }
   ],
   "source": [
    "dff = boxPlot_transform(df)"
   ]
  },
  {
   "cell_type": "code",
   "execution_count": 231,
   "id": "14110fc0-ef8d-487d-af50-2570cc1951c4",
   "metadata": {},
   "outputs": [
    {
     "data": {
      "text/html": [
       "<div>\n",
       "<style scoped>\n",
       "    .dataframe tbody tr th:only-of-type {\n",
       "        vertical-align: middle;\n",
       "    }\n",
       "\n",
       "    .dataframe tbody tr th {\n",
       "        vertical-align: top;\n",
       "    }\n",
       "\n",
       "    .dataframe thead th {\n",
       "        text-align: right;\n",
       "    }\n",
       "</style>\n",
       "<table border=\"1\" class=\"dataframe\">\n",
       "  <thead>\n",
       "    <tr style=\"text-align: right;\">\n",
       "      <th></th>\n",
       "      <th>loan_grade</th>\n",
       "      <th>loan_percent_income</th>\n",
       "      <th>loan_int_rate_bin</th>\n",
       "      <th>person_income</th>\n",
       "      <th>person_home_ownership</th>\n",
       "      <th>cb_person_default_on_file</th>\n",
       "      <th>loan_intent</th>\n",
       "      <th>loan_amnt</th>\n",
       "      <th>loan_status</th>\n",
       "    </tr>\n",
       "  </thead>\n",
       "  <tbody>\n",
       "    <tr>\n",
       "      <th>0</th>\n",
       "      <td>D</td>\n",
       "      <td>0.44</td>\n",
       "      <td>16.02</td>\n",
       "      <td>59000.0</td>\n",
       "      <td>RENT</td>\n",
       "      <td>Y</td>\n",
       "      <td>PERSONAL</td>\n",
       "      <td>23000.0</td>\n",
       "      <td>1</td>\n",
       "    </tr>\n",
       "    <tr>\n",
       "      <th>1</th>\n",
       "      <td>B</td>\n",
       "      <td>0.10</td>\n",
       "      <td>11.14</td>\n",
       "      <td>9600.0</td>\n",
       "      <td>OWN</td>\n",
       "      <td>N</td>\n",
       "      <td>EDUCATION</td>\n",
       "      <td>1000.0</td>\n",
       "      <td>0</td>\n",
       "    </tr>\n",
       "    <tr>\n",
       "      <th>2</th>\n",
       "      <td>C</td>\n",
       "      <td>0.44</td>\n",
       "      <td>12.87</td>\n",
       "      <td>9600.0</td>\n",
       "      <td>MORTGAGE</td>\n",
       "      <td>N</td>\n",
       "      <td>MEDICAL</td>\n",
       "      <td>5500.0</td>\n",
       "      <td>1</td>\n",
       "    </tr>\n",
       "    <tr>\n",
       "      <th>3</th>\n",
       "      <td>C</td>\n",
       "      <td>0.44</td>\n",
       "      <td>15.23</td>\n",
       "      <td>65500.0</td>\n",
       "      <td>RENT</td>\n",
       "      <td>N</td>\n",
       "      <td>MEDICAL</td>\n",
       "      <td>23000.0</td>\n",
       "      <td>1</td>\n",
       "    </tr>\n",
       "    <tr>\n",
       "      <th>4</th>\n",
       "      <td>C</td>\n",
       "      <td>0.44</td>\n",
       "      <td>14.27</td>\n",
       "      <td>54400.0</td>\n",
       "      <td>RENT</td>\n",
       "      <td>Y</td>\n",
       "      <td>MEDICAL</td>\n",
       "      <td>23000.0</td>\n",
       "      <td>1</td>\n",
       "    </tr>\n",
       "  </tbody>\n",
       "</table>\n",
       "</div>"
      ],
      "text/plain": [
       "  loan_grade  loan_percent_income  loan_int_rate_bin  person_income  \\\n",
       "0          D                 0.44              16.02        59000.0   \n",
       "1          B                 0.10              11.14         9600.0   \n",
       "2          C                 0.44              12.87         9600.0   \n",
       "3          C                 0.44              15.23        65500.0   \n",
       "4          C                 0.44              14.27        54400.0   \n",
       "\n",
       "  person_home_ownership cb_person_default_on_file loan_intent  loan_amnt  \\\n",
       "0                  RENT                         Y    PERSONAL    23000.0   \n",
       "1                   OWN                         N   EDUCATION     1000.0   \n",
       "2              MORTGAGE                         N     MEDICAL     5500.0   \n",
       "3                  RENT                         N     MEDICAL    23000.0   \n",
       "4                  RENT                         Y     MEDICAL    23000.0   \n",
       "\n",
       "   loan_status  \n",
       "0            1  \n",
       "1            0  \n",
       "2            1  \n",
       "3            1  \n",
       "4            1  "
      ]
     },
     "execution_count": 231,
     "metadata": {},
     "output_type": "execute_result"
    }
   ],
   "source": [
    "dff.head(5)"
   ]
  },
  {
   "cell_type": "code",
   "execution_count": 232,
   "id": "1ab96c25-8d47-4244-bb20-3e0dd3d5114f",
   "metadata": {},
   "outputs": [],
   "source": [
    "# dff"
   ]
  },
  {
   "cell_type": "code",
   "execution_count": 233,
   "id": "8b4eadd9-6926-4aba-84a8-540d69ab453c",
   "metadata": {},
   "outputs": [],
   "source": [
    "def woe_information(dff,col):\n",
    "    df = dff.groupby([col]).agg(bad = ('loan_status','sum'),count = (col,'count')).reset_index()\n",
    "    df['good'] = df['count'] - df['bad']\n",
    "    df['good_perc'] = df['good']/df['good'].sum()\n",
    "    df['bad_perc'] = df['bad']/df['bad'].sum()\n",
    "    df['diff_perc'] = df['good_perc']-df['bad_perc']\n",
    "    df['woe'] = np.log(df['good_perc']/df['bad_perc'])\n",
    "    df['woe'] = df['woe'].replace([np.inf, -np.inf], np.nan).fillna(0)\n",
    "    df['iv'] = df['diff_perc'] * df['woe']\n",
    "    dff = dff.merge(df[[col,'woe']] , on = col)\n",
    "    dff = dff.rename(columns = {'woe':col+'_woe'})\n",
    "    # print('information_value for '+column_name,df['iv'].sum())\n",
    "    return dff"
   ]
  },
  {
   "cell_type": "code",
   "execution_count": 234,
   "id": "44d6c1ec-c46f-4ea4-8b58-f1c9dd792627",
   "metadata": {},
   "outputs": [
    {
     "data": {
      "text/html": [
       "<div>\n",
       "<style scoped>\n",
       "    .dataframe tbody tr th:only-of-type {\n",
       "        vertical-align: middle;\n",
       "    }\n",
       "\n",
       "    .dataframe tbody tr th {\n",
       "        vertical-align: top;\n",
       "    }\n",
       "\n",
       "    .dataframe thead th {\n",
       "        text-align: right;\n",
       "    }\n",
       "</style>\n",
       "<table border=\"1\" class=\"dataframe\">\n",
       "  <thead>\n",
       "    <tr style=\"text-align: right;\">\n",
       "      <th></th>\n",
       "      <th>loan_grade</th>\n",
       "      <th>loan_percent_income</th>\n",
       "      <th>loan_int_rate_bin</th>\n",
       "      <th>person_income</th>\n",
       "      <th>person_home_ownership</th>\n",
       "      <th>cb_person_default_on_file</th>\n",
       "      <th>loan_intent</th>\n",
       "      <th>loan_amnt</th>\n",
       "      <th>loan_status</th>\n",
       "    </tr>\n",
       "  </thead>\n",
       "  <tbody>\n",
       "    <tr>\n",
       "      <th>0</th>\n",
       "      <td>D</td>\n",
       "      <td>0.59</td>\n",
       "      <td>16.02</td>\n",
       "      <td>59000</td>\n",
       "      <td>RENT</td>\n",
       "      <td>Y</td>\n",
       "      <td>PERSONAL</td>\n",
       "      <td>35000</td>\n",
       "      <td>1</td>\n",
       "    </tr>\n",
       "    <tr>\n",
       "      <th>1</th>\n",
       "      <td>B</td>\n",
       "      <td>0.10</td>\n",
       "      <td>11.14</td>\n",
       "      <td>9600</td>\n",
       "      <td>OWN</td>\n",
       "      <td>N</td>\n",
       "      <td>EDUCATION</td>\n",
       "      <td>1000</td>\n",
       "      <td>0</td>\n",
       "    </tr>\n",
       "    <tr>\n",
       "      <th>2</th>\n",
       "      <td>C</td>\n",
       "      <td>0.57</td>\n",
       "      <td>12.87</td>\n",
       "      <td>9600</td>\n",
       "      <td>MORTGAGE</td>\n",
       "      <td>N</td>\n",
       "      <td>MEDICAL</td>\n",
       "      <td>5500</td>\n",
       "      <td>1</td>\n",
       "    </tr>\n",
       "    <tr>\n",
       "      <th>3</th>\n",
       "      <td>C</td>\n",
       "      <td>0.53</td>\n",
       "      <td>15.23</td>\n",
       "      <td>65500</td>\n",
       "      <td>RENT</td>\n",
       "      <td>N</td>\n",
       "      <td>MEDICAL</td>\n",
       "      <td>35000</td>\n",
       "      <td>1</td>\n",
       "    </tr>\n",
       "    <tr>\n",
       "      <th>4</th>\n",
       "      <td>C</td>\n",
       "      <td>0.55</td>\n",
       "      <td>14.27</td>\n",
       "      <td>54400</td>\n",
       "      <td>RENT</td>\n",
       "      <td>Y</td>\n",
       "      <td>MEDICAL</td>\n",
       "      <td>35000</td>\n",
       "      <td>1</td>\n",
       "    </tr>\n",
       "    <tr>\n",
       "      <th>...</th>\n",
       "      <td>...</td>\n",
       "      <td>...</td>\n",
       "      <td>...</td>\n",
       "      <td>...</td>\n",
       "      <td>...</td>\n",
       "      <td>...</td>\n",
       "      <td>...</td>\n",
       "      <td>...</td>\n",
       "      <td>...</td>\n",
       "    </tr>\n",
       "    <tr>\n",
       "      <th>32576</th>\n",
       "      <td>C</td>\n",
       "      <td>0.11</td>\n",
       "      <td>13.16</td>\n",
       "      <td>53000</td>\n",
       "      <td>MORTGAGE</td>\n",
       "      <td>N</td>\n",
       "      <td>PERSONAL</td>\n",
       "      <td>5800</td>\n",
       "      <td>0</td>\n",
       "    </tr>\n",
       "    <tr>\n",
       "      <th>32577</th>\n",
       "      <td>A</td>\n",
       "      <td>0.15</td>\n",
       "      <td>7.49</td>\n",
       "      <td>120000</td>\n",
       "      <td>MORTGAGE</td>\n",
       "      <td>N</td>\n",
       "      <td>PERSONAL</td>\n",
       "      <td>17625</td>\n",
       "      <td>0</td>\n",
       "    </tr>\n",
       "    <tr>\n",
       "      <th>32578</th>\n",
       "      <td>B</td>\n",
       "      <td>0.46</td>\n",
       "      <td>10.99</td>\n",
       "      <td>76000</td>\n",
       "      <td>RENT</td>\n",
       "      <td>N</td>\n",
       "      <td>HOMEIMPROVEMENT</td>\n",
       "      <td>35000</td>\n",
       "      <td>1</td>\n",
       "    </tr>\n",
       "    <tr>\n",
       "      <th>32579</th>\n",
       "      <td>B</td>\n",
       "      <td>0.10</td>\n",
       "      <td>11.48</td>\n",
       "      <td>150000</td>\n",
       "      <td>MORTGAGE</td>\n",
       "      <td>N</td>\n",
       "      <td>PERSONAL</td>\n",
       "      <td>15000</td>\n",
       "      <td>0</td>\n",
       "    </tr>\n",
       "    <tr>\n",
       "      <th>32580</th>\n",
       "      <td>B</td>\n",
       "      <td>0.15</td>\n",
       "      <td>9.99</td>\n",
       "      <td>42000</td>\n",
       "      <td>RENT</td>\n",
       "      <td>N</td>\n",
       "      <td>MEDICAL</td>\n",
       "      <td>6475</td>\n",
       "      <td>0</td>\n",
       "    </tr>\n",
       "  </tbody>\n",
       "</table>\n",
       "<p>32581 rows × 9 columns</p>\n",
       "</div>"
      ],
      "text/plain": [
       "      loan_grade  loan_percent_income  loan_int_rate_bin  person_income  \\\n",
       "0              D                 0.59              16.02          59000   \n",
       "1              B                 0.10              11.14           9600   \n",
       "2              C                 0.57              12.87           9600   \n",
       "3              C                 0.53              15.23          65500   \n",
       "4              C                 0.55              14.27          54400   \n",
       "...          ...                  ...                ...            ...   \n",
       "32576          C                 0.11              13.16          53000   \n",
       "32577          A                 0.15               7.49         120000   \n",
       "32578          B                 0.46              10.99          76000   \n",
       "32579          B                 0.10              11.48         150000   \n",
       "32580          B                 0.15               9.99          42000   \n",
       "\n",
       "      person_home_ownership cb_person_default_on_file      loan_intent  \\\n",
       "0                      RENT                         Y         PERSONAL   \n",
       "1                       OWN                         N        EDUCATION   \n",
       "2                  MORTGAGE                         N          MEDICAL   \n",
       "3                      RENT                         N          MEDICAL   \n",
       "4                      RENT                         Y          MEDICAL   \n",
       "...                     ...                       ...              ...   \n",
       "32576              MORTGAGE                         N         PERSONAL   \n",
       "32577              MORTGAGE                         N         PERSONAL   \n",
       "32578                  RENT                         N  HOMEIMPROVEMENT   \n",
       "32579              MORTGAGE                         N         PERSONAL   \n",
       "32580                  RENT                         N          MEDICAL   \n",
       "\n",
       "       loan_amnt  loan_status  \n",
       "0          35000            1  \n",
       "1           1000            0  \n",
       "2           5500            1  \n",
       "3          35000            1  \n",
       "4          35000            1  \n",
       "...          ...          ...  \n",
       "32576       5800            0  \n",
       "32577      17625            0  \n",
       "32578      35000            1  \n",
       "32579      15000            0  \n",
       "32580       6475            0  \n",
       "\n",
       "[32581 rows x 9 columns]"
      ]
     },
     "execution_count": 234,
     "metadata": {},
     "output_type": "execute_result"
    }
   ],
   "source": [
    "df"
   ]
  },
  {
   "cell_type": "code",
   "execution_count": 235,
   "id": "815e156c-2afb-4ac6-acce-e66f2ba5de6b",
   "metadata": {},
   "outputs": [],
   "source": [
    "for col in ['loan_grade','person_home_ownership','cb_person_default_on_file','loan_intent']:\n",
    "    dff = woe_information(dff,col)"
   ]
  },
  {
   "cell_type": "code",
   "execution_count": 236,
   "id": "2e6e70b4-6589-4118-b8e9-e68ddf20d465",
   "metadata": {},
   "outputs": [
    {
     "data": {
      "text/plain": [
       "Index(['loan_grade', 'loan_percent_income', 'loan_int_rate_bin',\n",
       "       'person_income', 'person_home_ownership', 'cb_person_default_on_file',\n",
       "       'loan_intent', 'loan_amnt', 'loan_status', 'loan_grade_woe',\n",
       "       'person_home_ownership_woe', 'cb_person_default_on_file_woe',\n",
       "       'loan_intent_woe'],\n",
       "      dtype='object')"
      ]
     },
     "execution_count": 236,
     "metadata": {},
     "output_type": "execute_result"
    }
   ],
   "source": [
    "dff.columns"
   ]
  },
  {
   "cell_type": "code",
   "execution_count": 237,
   "id": "6038bc6f-be37-45ed-bb47-fca17b4dd7af",
   "metadata": {},
   "outputs": [],
   "source": [
    "dff = dff[['loan_percent_income','loan_int_rate_bin','person_income','loan_amnt','loan_grade_woe','person_home_ownership_woe',\\\n",
    "          'cb_person_default_on_file_woe','loan_intent_woe','loan_status']]"
   ]
  },
  {
   "cell_type": "code",
   "execution_count": 238,
   "id": "ad1afb58-7886-4064-9085-4881f3e92aa9",
   "metadata": {},
   "outputs": [],
   "source": [
    "# dff"
   ]
  },
  {
   "cell_type": "code",
   "execution_count": 239,
   "id": "89775681-9c40-4a4c-806c-3c6853b4a26b",
   "metadata": {},
   "outputs": [],
   "source": [
    "import pandas as pd\n",
    "import numpy as np\n",
    "import xgboost as xgb\n",
    "import plotly.graph_objects as go\n",
    "import seaborn as sns\n",
    "import matplotlib.pyplot as plt\n",
    "from sklearn.metrics import roc_curve\n",
    "from sklearn.preprocessing import LabelEncoder\n",
    "from sklearn.preprocessing import OrdinalEncoder\n",
    "from sklearn.tree import DecisionTreeClassifier\n",
    "from sklearn.linear_model import LogisticRegression\n",
    "from sklearn.metrics import classification_report\n",
    " \n",
    "from sklearn.compose import ColumnTransformer\n",
    "from sklearn.preprocessing import StandardScaler\n",
    "from sklearn.pipeline import Pipeline\n",
    "from sklearn.metrics import confusion_matrix,accuracy_score,precision_score,recall_score,f1_score,auc\n",
    "from sklearn.model_selection import train_test_split\n",
    " \n",
    "from sklearn.ensemble import RandomForestClassifier,AdaBoostClassifier,GradientBoostingClassifier,ExtraTreesClassifier\n",
    "from statsmodels.stats.outliers_influence import variance_inflation_factor\n",
    "from scipy.stats import ks_2samp\n",
    " \n",
    "from sklearn.model_selection import GridSearchCV , RandomizedSearchCV\n",
    "from sklearn.metrics import roc_auc_score\n",
    "from tqdm import tqdm"
   ]
  },
  {
   "cell_type": "code",
   "execution_count": 240,
   "id": "c0c07e85-cb87-442c-8cfe-3834575b1cca",
   "metadata": {},
   "outputs": [
    {
     "data": {
      "text/plain": [
       "<Axes: >"
      ]
     },
     "execution_count": 240,
     "metadata": {},
     "output_type": "execute_result"
    },
    {
     "data": {
      "image/png": "[encoded data removed]",
      "text/plain": [
       "<Figure size 400x400 with 2 Axes>"
      ]
     },
     "metadata": {},
     "output_type": "display_data"
    }
   ],
   "source": [
    "plt.figure(figsize =(4,4)) \n",
    "sns.heatmap((dff.corr()>=0.4) | (dff.corr()<=-0.3), cmap='coolwarm',fmt='.2f', linewidths = 1)"
   ]
  },
  {
   "cell_type": "code",
   "execution_count": 241,
   "id": "d4a58211-6fbe-4278-83ee-2fa44c526314",
   "metadata": {},
   "outputs": [],
   "source": [
    "def calc_vif(X):\n",
    "    vif = pd.DataFrame()\n",
    "    vif[\"variables\"] = X.columns\n",
    "    vif[\"VIF\"] = [variance_inflation_factor(X.values, i) for i in range(X.shape[1])]"
   ]
  },
  {
   "cell_type": "markdown",
   "id": "beca8688-980b-453d-87b1-5e8ecdaba29c",
   "metadata": {},
   "source": [
    "### Train and Test Splitting"
   ]
  },
  {
   "cell_type": "code",
   "execution_count": 242,
   "id": "dcbd2854-7215-4d08-8e30-635bd9bd44ff",
   "metadata": {},
   "outputs": [],
   "source": [
    "dff = dff.rename(columns = {'loan_status':'bad_16_mob'})"
   ]
  },
  {
   "cell_type": "code",
   "execution_count": 243,
   "id": "5b21ac6f-5fbf-4ccc-b7d9-6cdd4ce45264",
   "metadata": {},
   "outputs": [],
   "source": [
    "X = dff.drop('bad_16_mob', axis=1) \n",
    "y = dff['bad_16_mob']\n",
    "\n",
    "X_train, X_test_OOT1, Y_train, Y_test_OOT1 = train_test_split(X, y, test_size=0.2, random_state=42)"
   ]
  },
  {
   "cell_type": "code",
   "execution_count": 244,
   "id": "6dc0ec8c-4b87-4106-bb2a-7bdfddf33a29",
   "metadata": {},
   "outputs": [],
   "source": [
    "X_test_OOT2 = X_test_OOT1.copy()\n",
    "Y_test_OOT2 = Y_test_OOT1.copy()"
   ]
  },
  {
   "cell_type": "code",
   "execution_count": 245,
   "id": "c12d86eb-217a-4e32-984d-bf348f231255",
   "metadata": {},
   "outputs": [],
   "source": [
    "X_train = X_train.reset_index(drop = True)\n",
    "X_test_OOT1 = X_test_OOT1.reset_index(drop = True)\n",
    "X_test_OOT2 = X_test_OOT2.reset_index(drop = True)\n",
    "\n",
    "Y_train = Y_train.reset_index(drop = True)\n",
    "Y_test_OOT1 = Y_test_OOT1.reset_index(drop = True)\n",
    "Y_test_OOT2 = Y_test_OOT2.reset_index(drop = True)"
   ]
  },
  {
   "cell_type": "code",
   "execution_count": 246,
   "id": "7204c460-e70c-493a-b3d3-4feab55bbc78",
   "metadata": {},
   "outputs": [
    {
     "data": {
      "text/plain": [
       "loan_percent_income              0\n",
       "loan_int_rate_bin                0\n",
       "person_income                    0\n",
       "loan_amnt                        0\n",
       "loan_grade_woe                   0\n",
       "person_home_ownership_woe        0\n",
       "cb_person_default_on_file_woe    0\n",
       "loan_intent_woe                  0\n",
       "dtype: int64"
      ]
     },
     "execution_count": 246,
     "metadata": {},
     "output_type": "execute_result"
    }
   ],
   "source": [
    "X_train.isna().sum()"
   ]
  },
  {
   "cell_type": "code",
   "execution_count": 247,
   "id": "59fe28a1-05ae-4200-8f81-511473774242",
   "metadata": {},
   "outputs": [
    {
     "data": {
      "text/plain": [
       "{'loan_grade': 88.17355889851753,\n",
       " 'loan_percent_income': 87.14603407389853,\n",
       " 'loan_int_rate_bin_ex': 64.38380247398497,\n",
       " 'person_income_bin': 47.04325807329032,\n",
       " 'person_home_ownership': 37.69981794717246,\n",
       " 'cb_person_default_on_file': 16.40113747479888,\n",
       " 'loan_intent': 9.575234776986626,\n",
       " 'loan_amnt': 8.56400844288612,\n",
       " 'person_age': 1.0275519253197771,\n",
       " 'person_emp_length': 1.0275519253197771,\n",
       " 'cb_person_cred_hist_length': 0.7416347396847996}"
      ]
     },
     "execution_count": 247,
     "metadata": {},
     "output_type": "execute_result"
    }
   ],
   "source": [
    "information_value"
   ]
  },
  {
   "cell_type": "code",
   "execution_count": 248,
   "id": "fabd0553-9dd1-4996-a6b4-482d081f0df8",
   "metadata": {},
   "outputs": [],
   "source": [
    "calc_vif(X_train.drop(columns =['loan_percent_income','loan_amnt']))"
   ]
  },
  {
   "cell_type": "code",
   "execution_count": 249,
   "id": "c7f495db-bc72-43fa-9371-1f529ddd0382",
   "metadata": {},
   "outputs": [],
   "source": [
    "scaler = StandardScaler()\n",
    "X_train = scaler.fit_transform(X_train)\n",
    "\n",
    "X_test_OOT1 = scaler.transform(X_test_OOT1)\n",
    "X_test_OOT2 = scaler.transform(X_test_OOT2)"
   ]
  },
  {
   "cell_type": "code",
   "execution_count": 250,
   "id": "24338655-a5b4-4782-9cd2-a3bf2724667a",
   "metadata": {},
   "outputs": [
    {
     "name": "stdout",
     "output_type": "stream",
     "text": [
      "Optimal threshold is: 0.2608884683932581\n"
     ]
    },
    {
     "data": {
      "image/png": "[encoded data removed]",
      "text/plain": [
       "<Figure size 640x480 with 1 Axes>"
      ]
     },
     "metadata": {},
     "output_type": "display_data"
    },
    {
     "name": "stdout",
     "output_type": "stream",
     "text": [
      "Overall portfolio for Development_period_(2021-01)to(2022-02)time period: (90+ ever in 15 MOB Deliquency):  21.89 %\n"
     ]
    },
    {
     "data": {
      "image/png": "[encoded data removed]",
      "text/plain": [
       "<Figure size 640x480 with 1 Axes>"
      ]
     },
     "metadata": {},
     "output_type": "display_data"
    },
    {
     "name": "stdout",
     "output_type": "stream",
     "text": [
      "Overall portfolio for OOT1_(2022-03)to(2022-05)time period: (90+ ever in 15 MOB Deliquency):  21.51 %\n"
     ]
    },
    {
     "data": {
      "image/png": "[encoded data removed]",
      "text/plain": [
       "<Figure size 640x480 with 1 Axes>"
      ]
     },
     "metadata": {},
     "output_type": "display_data"
    },
    {
     "name": "stdout",
     "output_type": "stream",
     "text": [
      "None\n",
      "Overall portfolio for OOT2_(2022-01_to_(2022-03)time period: (90+ ever in 15 MOB Deliquency):  21.51 %\n"
     ]
    },
    {
     "data": {
      "image/png": "[encoded data removed]",
      "text/plain": [
       "<Figure size 640x480 with 1 Axes>"
      ]
     },
     "metadata": {},
     "output_type": "display_data"
    },
    {
     "name": "stdout",
     "output_type": "stream",
     "text": [
      "None\n"
     ]
    }
   ],
   "source": [
    "# 5. Fit linear regression model\n",
    "model = LogisticRegression()\n",
    "model.fit(X_train,Y_train)\n",
    "oerall = get_metrics_all(model,X_test_OOT1,X_test_OOT2,X_train,Y_test_OOT1,Y_test_OOT2,Y_train,'decile')"
   ]
  },
  {
   "cell_type": "code",
   "execution_count": 251,
   "id": "1bb6de1d-ac4c-4bbd-83c9-e74bb3eebea3",
   "metadata": {},
   "outputs": [
    {
     "data": {
      "text/html": [
       "<div>\n",
       "<style scoped>\n",
       "    .dataframe tbody tr th:only-of-type {\n",
       "        vertical-align: middle;\n",
       "    }\n",
       "\n",
       "    .dataframe tbody tr th {\n",
       "        vertical-align: top;\n",
       "    }\n",
       "\n",
       "    .dataframe thead th {\n",
       "        text-align: right;\n",
       "    }\n",
       "</style>\n",
       "<table border=\"1\" class=\"dataframe\">\n",
       "  <thead>\n",
       "    <tr style=\"text-align: right;\">\n",
       "      <th></th>\n",
       "      <th>dataset</th>\n",
       "      <th>timeline</th>\n",
       "      <th>Total_Count</th>\n",
       "      <th>accuracy</th>\n",
       "      <th>recall</th>\n",
       "      <th>precision</th>\n",
       "      <th>f1_score</th>\n",
       "      <th>AUC</th>\n",
       "      <th>GINI</th>\n",
       "      <th>KS</th>\n",
       "    </tr>\n",
       "  </thead>\n",
       "  <tbody>\n",
       "    <tr>\n",
       "      <th>0</th>\n",
       "      <td>Train</td>\n",
       "      <td>2020-08_to_2022-04</td>\n",
       "      <td>26064</td>\n",
       "      <td>0.8268</td>\n",
       "      <td>0.7571</td>\n",
       "      <td>0.5801</td>\n",
       "      <td>0.6569</td>\n",
       "      <td>0.869457</td>\n",
       "      <td>0.738914</td>\n",
       "      <td>0.603672</td>\n",
       "    </tr>\n",
       "    <tr>\n",
       "      <th>1</th>\n",
       "      <td>In_Sample_val</td>\n",
       "      <td>2020-08_to_2022-04</td>\n",
       "      <td>6517</td>\n",
       "      <td>0.8294</td>\n",
       "      <td>0.7425</td>\n",
       "      <td>0.5809</td>\n",
       "      <td>0.6518</td>\n",
       "      <td>0.866452</td>\n",
       "      <td>0.732904</td>\n",
       "      <td>0.599720</td>\n",
       "    </tr>\n",
       "    <tr>\n",
       "      <th>2</th>\n",
       "      <td>OOT</td>\n",
       "      <td>2022-05_to_2022-07</td>\n",
       "      <td>6517</td>\n",
       "      <td>0.8294</td>\n",
       "      <td>0.7425</td>\n",
       "      <td>0.5809</td>\n",
       "      <td>0.6518</td>\n",
       "      <td>0.866452</td>\n",
       "      <td>0.732904</td>\n",
       "      <td>0.599720</td>\n",
       "    </tr>\n",
       "  </tbody>\n",
       "</table>\n",
       "</div>"
      ],
      "text/plain": [
       "         dataset            timeline  Total_Count  accuracy  recall  \\\n",
       "0          Train  2020-08_to_2022-04        26064    0.8268  0.7571   \n",
       "1  In_Sample_val  2020-08_to_2022-04         6517    0.8294  0.7425   \n",
       "2            OOT  2022-05_to_2022-07         6517    0.8294  0.7425   \n",
       "\n",
       "   precision  f1_score        AUC      GINI        KS  \n",
       "0     0.5801     0.6569  0.869457  0.738914  0.603672  \n",
       "1     0.5809     0.6518  0.866452  0.732904  0.599720  \n",
       "2     0.5809     0.6518  0.866452  0.732904  0.599720  "
      ]
     },
     "execution_count": 251,
     "metadata": {},
     "output_type": "execute_result"
    }
   ],
   "source": [
    "oerall[0]"
   ]
  },
  {
   "cell_type": "code",
   "execution_count": 252,
   "id": "7ea9ee21-bce7-4dce-b8e7-5e2d7e229289",
   "metadata": {},
   "outputs": [],
   "source": [
    "# oerall[1]"
   ]
  },
  {
   "cell_type": "code",
   "execution_count": 253,
   "id": "63b0004d-ece2-4036-9df0-8b99c31a9eeb",
   "metadata": {},
   "outputs": [],
   "source": [
    "#GINI = 2*AUC-1"
   ]
  },
  {
   "cell_type": "code",
   "execution_count": 254,
   "id": "eaaae9aa-8065-4b0b-98a3-b31f9c6362ab",
   "metadata": {},
   "outputs": [
    {
     "data": {
      "text/plain": [
       "0       0\n",
       "1       0\n",
       "2       1\n",
       "3       0\n",
       "4       0\n",
       "       ..\n",
       "6512    0\n",
       "6513    0\n",
       "6514    0\n",
       "6515    0\n",
       "6516    0\n",
       "Name: bad_16_mob, Length: 6517, dtype: int64"
      ]
     },
     "execution_count": 254,
     "metadata": {},
     "output_type": "execute_result"
    }
   ],
   "source": [
    "Y_test_OOT1"
   ]
  },
  {
   "cell_type": "code",
   "execution_count": 255,
   "id": "1424a724-af6b-410e-8958-a07cd4f7b41f",
   "metadata": {},
   "outputs": [],
   "source": [
    "def get_gini(Y_test , Y_test_probs):\n",
    "    fpr, tpr, thresholds = roc_curve(Y_test, Y_test_probs)\n",
    "    roc_auc = auc(fpr, tpr)\n",
    "    #print('AUC:',roc_auc , 'GINI:', 2*(roc_auc-0.5))\n",
    "    return [roc_auc, 2*(roc_auc-0.5)]"
   ]
  },
  {
   "cell_type": "code",
   "execution_count": 256,
   "id": "62d6d720-72d7-43bd-b5d5-6c84c0815d60",
   "metadata": {},
   "outputs": [],
   "source": [
    "def ks_stats(Y_test,Y_test_probs ):\n",
    "    df = pd.concat([Y_test,Y_test_probs],axis=1)\n",
    "    # Recover each class\n",
    "    class0 = df[df['bad_16_mob'] == 0]\n",
    "    class1 = df[df['bad_16_mob'] == 1]\n",
    "    ks = ks_2samp(class0['prob'], class1['prob'])\n",
    "    return ks.statistic\n"
   ]
  },
  {
   "cell_type": "code",
   "execution_count": null,
   "id": "9ad92214-f509-4389-8bca-bd312e13212b",
   "metadata": {},
   "outputs": [],
   "source": []
  },
  {
   "cell_type": "code",
   "execution_count": null,
   "id": "b4e80f86-8936-4c36-8c35-92212116de73",
   "metadata": {},
   "outputs": [],
   "source": []
  },
  {
   "cell_type": "code",
   "execution_count": null,
   "id": "a27d8249-bd63-482e-99e4-f60b540022a5",
   "metadata": {},
   "outputs": [],
   "source": []
  },
  {
   "cell_type": "code",
   "execution_count": null,
   "id": "ea5f20f7-2e84-427a-8169-2d3967f0c98f",
   "metadata": {},
   "outputs": [],
   "source": []
  },
  {
   "cell_type": "code",
   "execution_count": null,
   "id": "b9909063-6693-4739-9de8-70c0212664dd",
   "metadata": {},
   "outputs": [],
   "source": []
  },
  {
   "cell_type": "code",
   "execution_count": null,
   "id": "d7a94057-2f8e-4da8-812f-1ca1b286f80a",
   "metadata": {},
   "outputs": [],
   "source": []
  },
  {
   "cell_type": "code",
   "execution_count": null,
   "id": "083f1b4b-0f8e-44bc-bbc8-16452bc83967",
   "metadata": {},
   "outputs": [],
   "source": []
  }
 ],
 "metadata": {
  "kernelspec": {
   "display_name": "Python 3 (ipykernel)",
   "language": "python",
   "name": "python3"
  },
  "language_info": {
   "codemirror_mode": {
    "name": "ipython",
    "version": 3
   },
   "file_extension": ".py",
   "mimetype": "text/x-python",
   "name": "python",
   "nbconvert_exporter": "python",
   "pygments_lexer": "ipython3",
   "version": "3.11.7"
  }
 },
 "nbformat": 4,
 "nbformat_minor": 5
}
